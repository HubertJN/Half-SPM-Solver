{
 "cells": [
  {
   "cell_type": "markdown",
   "id": "8efdbeef",
   "metadata": {},
   "source": [
    "# Tutorial"
   ]
  },
  {
   "cell_type": "markdown",
   "id": "074ddec4",
   "metadata": {},
   "source": [
    "This notebook serves as a tutorial for how to use the Single Particle Model Code. First, begin by running the next cell in order to import all necessary packages for executing the code within this jupyter notebook."
   ]
  },
  {
   "cell_type": "code",
   "execution_count": 84,
   "id": "6ab36f96",
   "metadata": {
    "code_folding": [
     0
    ]
   },
   "outputs": [],
   "source": [
    "# Import necessary packages\n",
    "%matplotlib tk\n",
    "import ipywidgets as widgets\n",
    "from IPython.display import display\n",
    "from ipywidgets import HBox, Label\n",
    "from netCDF4 import Dataset\n",
    "import netCDF4 as NC\n",
    "import numpy as np\n",
    "import matplotlib.pyplot as plt\n",
    "import matplotlib as mpl\n",
    "import matplotlib.cm as cm\n",
    "from matplotlib import animation\n",
    "from mpl_toolkits.axes_grid1 import make_axes_locatable\n",
    "from matplotlib.ticker import (StrMethodFormatter, AutoMinorLocator)\n",
    "from matplotlib.animation import FuncAnimation"
   ]
  },
  {
   "cell_type": "markdown",
   "id": "4c91fc56",
   "metadata": {},
   "source": [
    "$\\bf{\\mbox{Generating the input file}}$"
   ]
  },
  {
   "cell_type": "markdown",
   "id": "f03b54c5",
   "metadata": {},
   "source": [
    "This notebook allows the user to set the input parameters required for the half-SPM simulation.\n",
    "A $\\bf{\\mbox{new simulation}}$ can be started by setting 'Starting from checkpoint file' to 'No' and setting the input parameters in the following cells. A NetCDF file called 'SPM_input.nc' will automatically be created which is then read by the programme.\n",
    "\n",
    "The simulation can also be $\\bf{\\mbox{continued from a checkpoint}}$ file that is created during the first run by setting 'Starting from checkpoint file' to 'yes'. In that case, $\\bf{\\mbox{only the next two cells have to be run}}$ (provided the original 'input.nc' file still exists) and no further parameters have to be set."
   ]
  },
  {
   "cell_type": "code",
   "execution_count": 85,
   "id": "d022fd32",
   "metadata": {},
   "outputs": [
    {
     "data": {
      "application/vnd.jupyter.widget-view+json": {
       "model_id": "f228c53675ac4537a91349ecb4fd9918",
       "version_major": 2,
       "version_minor": 0
      },
      "text/plain": [
       "HBox(children=(Label(value='Starting from checkpoint file'), Select(index=1, options=('Yes', 'No'), value='No'…"
      ]
     },
     "metadata": {},
     "output_type": "display_data"
    },
    {
     "data": {
      "application/vnd.jupyter.widget-view+json": {
       "model_id": "9eed149086b540a59832a3a16a2f23ba",
       "version_major": 2,
       "version_minor": 0
      },
      "text/plain": [
       "HBox(children=(Label(value='No. of simulation steps'), BoundedIntText(value=1000, max=1000000000, min=1)))"
      ]
     },
     "metadata": {},
     "output_type": "display_data"
    },
    {
     "data": {
      "application/vnd.jupyter.widget-view+json": {
       "model_id": "dc9a859786d548e39c19eae3000fabac",
       "version_major": 2,
       "version_minor": 0
      },
      "text/plain": [
       "HBox(children=(Label(value='Output written every [n] steps'), BoundedIntText(value=5, max=1000000000, min=1)))"
      ]
     },
     "metadata": {},
     "output_type": "display_data"
    }
   ],
   "source": [
    "Checkpoint_ =  HBox([Label('Starting from checkpoint file'), widgets.Select(options=['Yes', 'No'], value='No', disabled=False)])\n",
    "Sim_steps_c = HBox([Label('No. of simulation steps'), widgets.BoundedIntText(value=1000, min=1, max=10**9, disabled=False)])\n",
    "Out_steps_c = HBox([Label('Output written every [n] steps'), widgets.BoundedIntText(value=5, min=1, max=10**9, disabled=False)])\n",
    "display(Checkpoint_, Sim_steps_c, Out_steps_c)"
   ]
  },
  {
   "cell_type": "code",
   "execution_count": 86,
   "id": "ee3ca169",
   "metadata": {
    "code_folding": [
     0,
     1,
     8
    ]
   },
   "outputs": [],
   "source": [
    "# Checkpoint check\n",
    "if Checkpoint_.children[1].value == 'Yes':\n",
    "        Checkpoint = 1\n",
    "        rootgrp = NC('SPM_input.nc', 'r+', format='NETCDF4')\n",
    "        rootgrp['checkpoint'][:] = Checkpoint\n",
    "        rootgrp['sim_steps'][:] = Sim_steps_c.children[1].value \n",
    "        rootgrp['out_steps'][:] = Out_steps_c.children[1].value \n",
    "        rootgrp.close()\n",
    "else:\n",
    "        Checkpoint = 0"
   ]
  },
  {
   "cell_type": "markdown",
   "id": "d17775ef",
   "metadata": {},
   "source": [
    "The following cell allows the user to set the input parameters within a suggested range, provided that a new simulation run is set up. The current default values are taken from Chen2020 (https:/doi.org/10.1149/1945-7111/ab9050) and are for a NCM (Nickel-Cobalt-Manganese) positive electrode.\n",
    "\n",
    "The unresrticted option to set the input parameters exists in the following cell, however this is recommended for experienced users and only physical valid values should be set.\n",
    "\n",
    "The remaining cells extract the set input parameters, convert them to SI units and creates a NetCDF input file that can be read by the programme."
   ]
  },
  {
   "cell_type": "code",
   "execution_count": 109,
   "id": "aa6e7362",
   "metadata": {
    "code_folding": []
   },
   "outputs": [
    {
     "data": {
      "application/vnd.jupyter.widget-view+json": {
       "model_id": "370f73df5a704d7ea38e1f071b0b59b6",
       "version_major": 2,
       "version_minor": 0
      },
      "text/plain": [
       "HBox(children=(Label(value='Temperature [°C]'), FloatSlider(value=21.0, max=50.0, min=-20.0, step=1.0)))"
      ]
     },
     "metadata": {},
     "output_type": "display_data"
    },
    {
     "data": {
      "application/vnd.jupyter.widget-view+json": {
       "model_id": "95e4b28215184104b922e9e39fc17e62",
       "version_major": 2,
       "version_minor": 0
      },
      "text/plain": [
       "HBox(children=(Label(value='Mean particle radius [$\\\\mu m$]'), FloatSlider(value=5.22, max=7.22, min=3.22, ste…"
      ]
     },
     "metadata": {},
     "output_type": "display_data"
    },
    {
     "data": {
      "application/vnd.jupyter.widget-view+json": {
       "model_id": "c40b6700a5934fe580637cc069017707",
       "version_major": 2,
       "version_minor": 0
      },
      "text/plain": [
       "HBox(children=(Label(value='Electrode thickness [$\\\\mu m$]'), FloatSlider(value=75.6, min=50.0)))"
      ]
     },
     "metadata": {},
     "output_type": "display_data"
    },
    {
     "data": {
      "application/vnd.jupyter.widget-view+json": {
       "model_id": "f43d76395ab84737a1140acaad81378c",
       "version_major": 2,
       "version_minor": 0
      },
      "text/plain": [
       "HBox(children=(Label(value='Reaction rate coefficent[$Am^{-2}(m^3mol^{-1})^{1.5}$]'), FloatSlider(value=3.42, …"
      ]
     },
     "metadata": {},
     "output_type": "display_data"
    },
    {
     "data": {
      "application/vnd.jupyter.widget-view+json": {
       "model_id": "d06128ba57824af6858dbb2056ae3a21",
       "version_major": 2,
       "version_minor": 0
      },
      "text/plain": [
       "HBox(children=(Label(value='Diffusion coefficient [$10^{-15} m^2 s^{-1}$]'), FloatSlider(value=1.48, step=0.01…"
      ]
     },
     "metadata": {},
     "output_type": "display_data"
    },
    {
     "data": {
      "application/vnd.jupyter.widget-view+json": {
       "model_id": "43f67d648fb74f1c99c574899d03fab2",
       "version_major": 2,
       "version_minor": 0
      },
      "text/plain": [
       "HBox(children=(Label(value='Maximum lithium concentration [$mol m^{-3}$]'), FloatSlider(value=51765.0, max=100…"
      ]
     },
     "metadata": {},
     "output_type": "display_data"
    },
    {
     "data": {
      "application/vnd.jupyter.widget-view+json": {
       "model_id": "edc7c0b7d7494dbf8d43c328e0b01eb4",
       "version_major": 2,
       "version_minor": 0
      },
      "text/plain": [
       "HBox(children=(Label(value='State of charge [%]'), FloatSlider(value=0.0, step=1.0)))"
      ]
     },
     "metadata": {},
     "output_type": "display_data"
    },
    {
     "data": {
      "application/vnd.jupyter.widget-view+json": {
       "model_id": "03f07bc1cf314a59952593c74e2702c7",
       "version_major": 2,
       "version_minor": 0
      },
      "text/plain": [
       "HBox(children=(Label(value='Applied current [A]'), FloatSlider(value=5.0, max=20.0, min=-20.0)))"
      ]
     },
     "metadata": {},
     "output_type": "display_data"
    },
    {
     "data": {
      "application/vnd.jupyter.widget-view+json": {
       "model_id": "369515b81f4a49f9845e464122cf24b0",
       "version_major": 2,
       "version_minor": 0
      },
      "text/plain": [
       "HBox(children=(Label(value='Active material volume fraction [%]'), FloatSlider(value=66.5)))"
      ]
     },
     "metadata": {},
     "output_type": "display_data"
    },
    {
     "data": {
      "application/vnd.jupyter.widget-view+json": {
       "model_id": "8bb0f29ac1bf48dea3c937952b2162f1",
       "version_major": 2,
       "version_minor": 0
      },
      "text/plain": [
       "HBox(children=(Label(value='Electrode plate area [$m^2$]'), FloatSlider(value=0.1027, max=1.0, min=0.001, step…"
      ]
     },
     "metadata": {},
     "output_type": "display_data"
    },
    {
     "data": {
      "application/vnd.jupyter.widget-view+json": {
       "model_id": "623d3cc23bcc49b697628d265e874bec",
       "version_major": 2,
       "version_minor": 0
      },
      "text/plain": [
       "HBox(children=(Label(value='No. of simulation steps'), BoundedIntText(value=1000, max=1000000000, min=1)))"
      ]
     },
     "metadata": {},
     "output_type": "display_data"
    },
    {
     "data": {
      "application/vnd.jupyter.widget-view+json": {
       "model_id": "84ce90b7cda84b78a1ce43a0717300cf",
       "version_major": 2,
       "version_minor": 0
      },
      "text/plain": [
       "HBox(children=(Label(value='Time step (s)'), FloatSlider(value=2.0, min=0.01, step=0.01)))"
      ]
     },
     "metadata": {},
     "output_type": "display_data"
    },
    {
     "data": {
      "application/vnd.jupyter.widget-view+json": {
       "model_id": "ff436ad6d95e4ad0b9c19d2efb53a745",
       "version_major": 2,
       "version_minor": 0
      },
      "text/plain": [
       "HBox(children=(Label(value='Output written every [n] steps'), BoundedIntText(value=5, max=1000000000, min=1)))"
      ]
     },
     "metadata": {},
     "output_type": "display_data"
    },
    {
     "data": {
      "application/vnd.jupyter.widget-view+json": {
       "model_id": "013eb134a82241e3913df3a6c1f9c8fd",
       "version_major": 2,
       "version_minor": 0
      },
      "text/plain": [
       "HBox(children=(Label(value='No. of space steps'), FloatSlider(value=20.0, max=1000.0, min=2.0, step=1.0)))"
      ]
     },
     "metadata": {},
     "output_type": "display_data"
    },
    {
     "data": {
      "application/vnd.jupyter.widget-view+json": {
       "model_id": "339294714b2244488fadb375a3702864",
       "version_major": 2,
       "version_minor": 0
      },
      "text/plain": [
       "HBox(children=(Label(value='Output voltage data'), Select(options=('Yes', 'No'), value='Yes')))"
      ]
     },
     "metadata": {},
     "output_type": "display_data"
    }
   ],
   "source": [
    "# set input parameter within given ranges\n",
    "Temp_ = HBox([Label('Temperature [°C]'), widgets.FloatSlider(min=-20.0, max=50.0, value=21.0, step=1)])\n",
    "Rad_ = HBox([Label('Mean particle radius [$\\mu m$]'), widgets.FloatSlider(min=3.22, max=7.22, value=5.22, step=0.01)])\n",
    "Thick_ = HBox([Label('Electrode thickness [$\\mu m$]'), widgets.FloatSlider(min=50.0, max=100.0, value=75.6, step=0.1)])\n",
    "Rr_coef_ = HBox([Label('Reaction rate coefficent[$Am^{-2}(m^3mol^{-1})^{1.5}$]'), widgets.FloatSlider(min=1.5, max=6.5, value=3.42, step=0.01)])\n",
    "Dif_coef_ = HBox([Label('Diffusion coefficient [$10^{-15} m^2 s^{-1}$]'), widgets.FloatSlider(min=0, max=100, value=1.48, step=0.01)])\n",
    "Max_c_ = HBox([Label('Maximum lithium concentration [$mol m^{-3}$]'), widgets.FloatSlider(min=0.0, max=100000.0, value=51765.0, step=1)])\n",
    "SOC_ = HBox([Label('State of charge [%]'), widgets.FloatSlider(min=0, max=100, value=0, step=1)])\n",
    "Current_ = HBox([Label('Applied current [A]'), widgets.FloatSlider(min=-20.0, max=20.0, value=5.0, step=0.1)])\n",
    "Vol_per_ = HBox([Label('Active material volume fraction [%]'), widgets.FloatSlider(min = 0.0, max=100.0, value=66.5, step=0.1)])\n",
    "Area_ = HBox([Label('Electrode plate area [$m^2$]'), widgets.FloatSlider(min=0.001, max=1.0, value=0.1027, step=0.001)])\n",
    "Sim_steps_ = HBox([Label('No. of simulation steps'), widgets.BoundedIntText(value=1000, min=1, max=10**9, disabled=False)])\n",
    "Dt_ = HBox([Label('Time step (s)'), widgets.FloatSlider(min=0.01, max=100.0, value=2.0, step=0.01)]) \n",
    "Out_steps_ = HBox([Label('Output written every [n] steps'), widgets.BoundedIntText(value=5, min=1, max=10**9, disabled=False)])\n",
    "Space_steps_ = HBox([Label('No. of space steps'), widgets.FloatSlider(min=2, max=1000, value=20, step=1)])\n",
    "Volt_do_ =  HBox([Label('Output voltage data'), widgets.Select(options=['Yes', 'No'], value='Yes', disabled=False)])\n",
    "\n",
    "display(Temp_, Rad_, Thick_, Rr_coef_, Dif_coef_, Max_c_, SOC_, Current_, Vol_per_, Area_, Sim_steps_, Dt_, Out_steps_, Space_steps_, Volt_do_)"
   ]
  },
  {
   "cell_type": "code",
   "execution_count": 110,
   "id": "29766fd7",
   "metadata": {
    "code_folding": [
     0
    ]
   },
   "outputs": [
    {
     "data": {
      "application/vnd.jupyter.widget-view+json": {
       "model_id": "938a781b43e24ae4b9c15ad108845be1",
       "version_major": 2,
       "version_minor": 0
      },
      "text/plain": [
       "HBox(children=(Label(value='Temperature [°C]'), FloatText(value=21.0)))"
      ]
     },
     "metadata": {},
     "output_type": "display_data"
    },
    {
     "data": {
      "application/vnd.jupyter.widget-view+json": {
       "model_id": "621960a15534428eaeeda3396a2fa971",
       "version_major": 2,
       "version_minor": 0
      },
      "text/plain": [
       "HBox(children=(Label(value='Mean particle radius [$\\\\mu m$]'), FloatText(value=5.220000000000001)))"
      ]
     },
     "metadata": {},
     "output_type": "display_data"
    },
    {
     "data": {
      "application/vnd.jupyter.widget-view+json": {
       "model_id": "13b530f94f66454a8b446dfc00dc8bfd",
       "version_major": 2,
       "version_minor": 0
      },
      "text/plain": [
       "HBox(children=(Label(value='Electrode thickness [$\\\\mu m$]'), FloatText(value=75.6)))"
      ]
     },
     "metadata": {},
     "output_type": "display_data"
    },
    {
     "data": {
      "application/vnd.jupyter.widget-view+json": {
       "model_id": "d08a151faf1049ca881639261eab7d2c",
       "version_major": 2,
       "version_minor": 0
      },
      "text/plain": [
       "HBox(children=(Label(value='Reaction rate coeffic[ent($Am^{-2}(m^3mol^{-1})^{1.5}$]'), FloatText(value=3.42000…"
      ]
     },
     "metadata": {},
     "output_type": "display_data"
    },
    {
     "data": {
      "application/vnd.jupyter.widget-view+json": {
       "model_id": "d1e941d5f5b94817941c7d3187ef9bb9",
       "version_major": 2,
       "version_minor": 0
      },
      "text/plain": [
       "HBox(children=(Label(value='Diffusion coefficient [$10^{-15} m^2 s^{-1}$]'), FloatText(value=1.48)))"
      ]
     },
     "metadata": {},
     "output_type": "display_data"
    },
    {
     "data": {
      "application/vnd.jupyter.widget-view+json": {
       "model_id": "0e0d2a5bc0bf4b178d1d1057ea46e6bd",
       "version_major": 2,
       "version_minor": 0
      },
      "text/plain": [
       "HBox(children=(Label(value='Maximum lithium concentration [$mol m^{-3}$]'), FloatText(value=51765.0)))"
      ]
     },
     "metadata": {},
     "output_type": "display_data"
    },
    {
     "data": {
      "application/vnd.jupyter.widget-view+json": {
       "model_id": "1e6ac715e21a4699a0f42e3d742cb017",
       "version_major": 2,
       "version_minor": 0
      },
      "text/plain": [
       "HBox(children=(Label(value='Applied current [A]'), FloatText(value=5.0)))"
      ]
     },
     "metadata": {},
     "output_type": "display_data"
    },
    {
     "data": {
      "application/vnd.jupyter.widget-view+json": {
       "model_id": "6c678fae82374ac19b949b6503e203d3",
       "version_major": 2,
       "version_minor": 0
      },
      "text/plain": [
       "HBox(children=(Label(value='Electrode area [$m^2$]'), FloatText(value=0.103)))"
      ]
     },
     "metadata": {},
     "output_type": "display_data"
    },
    {
     "data": {
      "application/vnd.jupyter.widget-view+json": {
       "model_id": "4b0c3df43fe54fdd92ae9d4b4d467118",
       "version_major": 2,
       "version_minor": 0
      },
      "text/plain": [
       "HBox(children=(Label(value='Time step (s)'), FloatText(value=2.0)))"
      ]
     },
     "metadata": {},
     "output_type": "display_data"
    },
    {
     "data": {
      "application/vnd.jupyter.widget-view+json": {
       "model_id": "20fba01693514981950726f3a54c03ab",
       "version_major": 2,
       "version_minor": 0
      },
      "text/plain": [
       "HBox(children=(Label(value='No. of space steps'), FloatText(value=20.0)))"
      ]
     },
     "metadata": {},
     "output_type": "display_data"
    }
   ],
   "source": [
    "# unbounded boxes to set parameters outside of suggested ranges if wanted\n",
    "Temp_ = HBox([Label('Temperature [°C]'), widgets.FloatText(value=Temp_.children[1].value, disabled=False)])\n",
    "Rad_ = HBox([Label('Mean particle radius [$\\mu m$]'), widgets.FloatText(value=Rad_.children[1].value, disabled=False)])\n",
    "Thick_ = HBox([Label('Electrode thickness [$\\mu m$]'), widgets.FloatText(value=Thick_.children[1].value, disabled=False)])\n",
    "Rr_coef_ = HBox([Label('Reaction rate coeffic[ent($Am^{-2}(m^3mol^{-1})^{1.5}$]'), widgets.FloatText(value=Rr_coef_.children[1].value, disabled=False)])\n",
    "Dif_coef_ = HBox([Label('Diffusion coefficient [$10^{-15} m^2 s^{-1}$]'), widgets.FloatText(value=Dif_coef_.children[1].value, disabled=False)])\n",
    "Max_c_ = HBox([Label('Maximum lithium concentration [$mol m^{-3}$]'), widgets.FloatText(value=Max_c_.children[1].value, disabled=False)])\n",
    "Current_ = HBox([Label('Applied current [A]'), widgets.FloatText(value=Current_.children[1].value, disabled=False)])\n",
    "Area_ = HBox([Label('Electrode area [$m^2$]'), widgets.FloatText(value=Area_.children[1].value, disabled=False)])\n",
    "Dt_ = HBox([Label('Time step (s)'), widgets.FloatText(value=Dt_.children[1].value, disabled=False)])\n",
    "Space_steps_ = HBox([Label('No. of space steps'), widgets.FloatText(value=Space_steps_.children[1].value, disabled=False)])\n",
    "\n",
    "display(Temp_, Rad_, Thick_, Rr_coef_, Dif_coef_, Max_c_, Current_, Area_, Dt_, Space_steps_)"
   ]
  },
  {
   "cell_type": "code",
   "execution_count": 121,
   "id": "a5fd3743",
   "metadata": {
    "code_folding": [
     0
    ]
   },
   "outputs": [],
   "source": [
    "# saving the values set by the user and adjusting relevant parameters to be in SI units\n",
    "Temp = Temp_.children[1].value + 273.15   #K\n",
    "Rad = Rad_.children[1].value * 10**(-6)   #m\n",
    "Thick = Thick_.children[1].value * 10**(-6)   #m\n",
    "Rr_coef =  Rr_coef_.children[1].value\n",
    "Dif_coef = Dif_coef_.children[1].value * 10**(-15)\n",
    "Max_c = Max_c_.children[1].value\n",
    "# Init_c derived from values in Chen2020:\n",
    "# stoichiometry at 0% SOC = 0.2661, and at 100% SOC = 0.9084\n",
    "# assuming linear behaviour we get x = mcx +c with c = 0.9084\n",
    "# and m = 0.2661-0.9084 = -0.6423\n",
    "Init_c = Max_c * ((SOC_.children[1].value/100)*(-0.6423) + 0.9084)\n",
    "Iapp = Current_.children[1].value / Area_.children[1].value  # A/m^2\n",
    "Vol_per = Vol_per_.children[1].value\n",
    "Sim_steps = Sim_steps_.children[1].value\n",
    "Dt = Dt_.children[1].value\n",
    "Out_steps = Out_steps_.children[1].value\n",
    "Space_steps = Space_steps_.children[1].value\n",
    "if Volt_do_.children[1].value == 'Yes':\n",
    "    Volt_do = 1\n",
    "else:\n",
    "    Volt_do = 0"
   ]
  },
  {
   "cell_type": "code",
   "execution_count": 122,
   "id": "591b283a",
   "metadata": {
    "code_folding": [
     0
    ]
   },
   "outputs": [],
   "source": [
    "#create new NetCDF file in 'writing mode' and 'NETCDF4 format'\n",
    "rootgrp = Dataset('SPM_input.nc', 'w', format='NETCDF4')\n",
    "#creating dimensions for vector holding all the input variables\n",
    "temp_dim = rootgrp.createDimension('temp_dim', 1)\n",
    "rad_dim = rootgrp.createDimension('rad_dim', 1)\n",
    "thick_dim = rootgrp.createDimension('thick_dim', 1)\n",
    "rr_coef_dim = rootgrp.createDimension('rr_coef_dim', 1)\n",
    "dif_coef_dim = rootgrp.createDimension('dif_coef_dim', 1)\n",
    "max_c_dim = rootgrp.createDimension('max_c_dim', 1)\n",
    "init_c_dim = rootgrp.createDimension('init_c_dim', 1)\n",
    "iapp_dim = rootgrp.createDimension('iapp_dim', 1)\n",
    "vol_per_dim = rootgrp.createDimension('vol_per_dim', 1)\n",
    "sim_steps_dim = rootgrp.createDimension('sim_steps_dim', 1)\n",
    "dt_dim = rootgrp.createDimension('dt_dim', 1)\n",
    "out_steps_dim = rootgrp.createDimension('out_steps_dim', 1)\n",
    "space_steps_dim = rootgrp.createDimension('space_steps_dim', 1)\n",
    "volt_do_dim = rootgrp.createDimension('volt_do_dim', 1)\n",
    "checkpoint_dim = rootgrp.createDimension('checkpoint_dim', 1)\n",
    "#creating variable \n",
    "temp = rootgrp.createVariable('temp', 'f8', ('temp_dim',))\n",
    "rad = rootgrp.createVariable('rad', 'f8', ('rad_dim',))\n",
    "thick = rootgrp.createVariable('thick', 'f8', ('thick_dim',))\n",
    "rr_coef = rootgrp.createVariable('rr_coef', 'f8', ('rr_coef_dim',))\n",
    "dif_coef = rootgrp.createVariable('dif_coef', 'f8', ('dif_coef_dim',))\n",
    "max_c = rootgrp.createVariable('max_c', 'f8', ('max_c_dim',))\n",
    "init_c = rootgrp.createVariable('init_c', 'f8', ('init_c_dim',))\n",
    "iapp = rootgrp.createVariable('iapp', 'f8', ('iapp_dim',))\n",
    "vol_per = rootgrp.createVariable('vol_per', 'f8', ('vol_per_dim',))\n",
    "sim_steps = rootgrp.createVariable('sim_steps', 'i4', ('sim_steps_dim',))\n",
    "dt = rootgrp.createVariable('dt', 'f8', ('dt_dim',))\n",
    "out_steps = rootgrp.createVariable('out_steps', 'i4', ('out_steps_dim',))\n",
    "space_steps = rootgrp.createVariable('space_steps', 'i4', ('space_steps_dim',))\n",
    "volt_do = rootgrp.createVariable('volt_do', 'i4', ('volt_do_dim',))\n",
    "checkpoint = rootgrp.createVariable('checkpoint', 'i4', ('checkpoint_dim',))\n",
    "# attributes\n",
    "rootgrp.description = 'Input parameters for SMP model'\n",
    "temp.description = 'Temperature'\n",
    "temp.units = 'K'\n",
    "rad.description = 'Mean particle radius'\n",
    "rad.units = 'm'\n",
    "thick.description = 'Electrode thickness'\n",
    "thick.units = 'm'\n",
    "rr_coef.description = 'Reaction rate coefficient'\n",
    "rr_coef.units = '$Am^{-2}(m^3mol^{-1})^{1.5}$'\n",
    "dif_coef.description ='Diffusion coefficient'\n",
    "dif_coef.units = '$m^2 s^{-1}$'\n",
    "max_c.description = 'Maximum lithium concentration'\n",
    "max_c.units = '$mol m^{-3}$'\n",
    "init_c.description = 'Initial lithium concentration'\n",
    "init_c.units = '$mol m^{-3}$'\n",
    "iapp.description = 'Applied current density'\n",
    "iapp.units = '$A/m^2$'\n",
    "vol_per.description = 'Active material volume fraction'\n",
    "vol_per.units = '%'\n",
    "sim_steps.description = 'Total number of simultion steps'\n",
    "sim_steps.units = 'unitless'\n",
    "dt.description = 'Time step'\n",
    "dt.units = 's'\n",
    "out_steps.description = 'Output written every [n] number of steps'\n",
    "out_steps.units = 'untiless'\n",
    "space_steps.description = 'No. of space steps'\n",
    "space_steps.units = 'unitless'\n",
    "volt_do.description = 'Write voltage data'\n",
    "volt_do.units = 'unitless'\n",
    "checkpoint.description = 'Starting from checkpont file'\n",
    "checkpoint.units = 'unitless'\n",
    "# writing data to input_parameters variable\n",
    "temp[0] = Temp\n",
    "rad[0] = Rad\n",
    "thick[0] = Thick\n",
    "rr_coef[0] = Rr_coef\n",
    "dif_coef[0] = Dif_coef\n",
    "max_c[0] = Max_c\n",
    "init_c[0] = Init_c\n",
    "iapp[0] = Iapp\n",
    "vol_per[0] = Vol_per\n",
    "sim_steps[0] = Sim_steps\n",
    "dt[0] = Dt\n",
    "out_steps[0] = Out_steps\n",
    "space_steps[0] = Space_steps\n",
    "volt_do[0] = Volt_do\n",
    "checkpoint[0] = Checkpoint\n",
    "#closing the NetCDF file\n",
    "rootgrp.close()"
   ]
  },
  {
   "cell_type": "markdown",
   "id": "13fbcbbf",
   "metadata": {},
   "source": [
    "Option to perform uncertainty propagation on given input variables. A variable is ignored by setting its value equal to 0. To run this a input 'SMP_input.nc' file needs to be already present and only the following 3 cells have to be run."
   ]
  },
  {
   "cell_type": "code",
   "execution_count": 87,
   "id": "08ec2394",
   "metadata": {
    "code_folding": [
     0
    ]
   },
   "outputs": [
    {
     "data": {
      "application/vnd.jupyter.widget-view+json": {
       "model_id": "6decc69dbe034ae8b51ebade9bf46c51",
       "version_major": 2,
       "version_minor": 0
      },
      "text/plain": [
       "HBox(children=(Label(value='Conduct uncertainty propagation'), Select(index=1, options=('Yes', 'No'), value='N…"
      ]
     },
     "metadata": {},
     "output_type": "display_data"
    },
    {
     "data": {
      "application/vnd.jupyter.widget-view+json": {
       "model_id": "4a7d6a5db1974bfcbf0c298d8685ecc4",
       "version_major": 2,
       "version_minor": 0
      },
      "text/plain": [
       "HBox(children=(Label(value='No. of samples [unitless]'), IntText(value=10)))"
      ]
     },
     "metadata": {},
     "output_type": "display_data"
    },
    {
     "data": {
      "application/vnd.jupyter.widget-view+json": {
       "model_id": "a3e07a2bc0534ecfb6c7a7879c692cbd",
       "version_major": 2,
       "version_minor": 0
      },
      "text/plain": [
       "HBox(children=(Label(value='Standard devidation (std) of temperature [°C]'), FloatText(value=1.05)))"
      ]
     },
     "metadata": {},
     "output_type": "display_data"
    },
    {
     "data": {
      "application/vnd.jupyter.widget-view+json": {
       "model_id": "4321014a22fc47798b0d7f2d9c800464",
       "version_major": 2,
       "version_minor": 0
      },
      "text/plain": [
       "HBox(children=(Label(value='Std of mean particle radius [$\\\\mu m$]'), FloatText(value=0.261)))"
      ]
     },
     "metadata": {},
     "output_type": "display_data"
    },
    {
     "data": {
      "application/vnd.jupyter.widget-view+json": {
       "model_id": "9ea3ce8c162745079197e922e3c54c86",
       "version_major": 2,
       "version_minor": 0
      },
      "text/plain": [
       "HBox(children=(Label(value='Std of electrode thickness [$\\\\mu m$]'), FloatText(value=3.78)))"
      ]
     },
     "metadata": {},
     "output_type": "display_data"
    },
    {
     "data": {
      "application/vnd.jupyter.widget-view+json": {
       "model_id": "77f644a3e85f4de3b229c851e932d7ab",
       "version_major": 2,
       "version_minor": 0
      },
      "text/plain": [
       "HBox(children=(Label(value='Std of reaction reate coefficient [$Am^{-2}(m^3mol^{-1})^{1.5}$]'), FloatText(valu…"
      ]
     },
     "metadata": {},
     "output_type": "display_data"
    },
    {
     "data": {
      "application/vnd.jupyter.widget-view+json": {
       "model_id": "9bd46e5fa6ba4d9d98ff77ce85d10fa3",
       "version_major": 2,
       "version_minor": 0
      },
      "text/plain": [
       "HBox(children=(Label(value='Std of diffusion coefficient [$10^{-15} m^2 s^{-1}$]'), FloatText(value=0.074)))"
      ]
     },
     "metadata": {},
     "output_type": "display_data"
    },
    {
     "data": {
      "application/vnd.jupyter.widget-view+json": {
       "model_id": "67edaa72620a4cafacd826e7989d434c",
       "version_major": 2,
       "version_minor": 0
      },
      "text/plain": [
       "HBox(children=(Label(value='Std of initial concentration [$mol m^{-3}$]'), FloatText(value=2351.1663000000003)…"
      ]
     },
     "metadata": {},
     "output_type": "display_data"
    },
    {
     "data": {
      "application/vnd.jupyter.widget-view+json": {
       "model_id": "73939a29f5ca41aab53c3e7270812708",
       "version_major": 2,
       "version_minor": 0
      },
      "text/plain": [
       "HBox(children=(Label(value='Std of active material volume fraction [%]'), FloatText(value=3.325)))"
      ]
     },
     "metadata": {},
     "output_type": "display_data"
    },
    {
     "data": {
      "application/vnd.jupyter.widget-view+json": {
       "model_id": "7136dd75b49440458bb802e4a509158d",
       "version_major": 2,
       "version_minor": 0
      },
      "text/plain": [
       "HBox(children=(Label(value='Std of applied current [A]'), FloatText(value=0.25)))"
      ]
     },
     "metadata": {},
     "output_type": "display_data"
    }
   ],
   "source": [
    "# option to conduct uncertainty propagation\n",
    "UQ_ = HBox([Label('Conduct uncertainty propagation'), widgets.Select(options=['Yes', 'No'], value='No', disabled=False)])\n",
    "No_samples_ = HBox([Label('No. of samples [unitless]'), widgets.IntText(value=10, disabled=False)])\n",
    "Temp_std_ = HBox([Label('Standard devidation (std) of temperature [°C]'), widgets.FloatText(value=21.0*0.05, disabled=False)])\n",
    "Rad_std_ = HBox([Label('Std of mean particle radius [$\\mu m$]'), widgets.FloatText(value=5.22*0.05, disabled=False)])\n",
    "Thick_std_ = HBox([Label('Std of electrode thickness [$\\mu m$]'), widgets.FloatText(value=75.6*0.05, disabled=False)])\n",
    "Rr_coef_std_ = HBox([Label('Std of reaction reate coefficient [$Am^{-2}(m^3mol^{-1})^{1.5}$]'), widgets.FloatText(value=6.5*0.05, disabled=False)])\n",
    "Dif_coef_std_ = HBox([Label('Std of diffusion coefficient [$10^{-15} m^2 s^{-1}$]'), widgets.FloatText(value=1.48*0.05, disabled=False)])\n",
    "Init_c_std_ = HBox([Label('Std of initial concentration [$mol m^{-3}$]'), widgets.FloatText(value=47023.326*0.05, disabled=False)])\n",
    "Vol_per_std_ = HBox([Label('Std of active material volume fraction [%]'), widgets.FloatText(value=66.5*0.05, disabled=False)])\n",
    "Iapp_std_ = HBox([Label('Std of applied current [A]'), widgets.FloatText(value=5.0*0.05, disabled=False)])\n",
    "display(UQ_, No_samples_, Temp_std_, Rad_std_, Thick_std_, Rr_coef_std_, Dif_coef_std_, Init_c_std_, Vol_per_std_, Iapp_std_)"
   ]
  },
  {
   "cell_type": "code",
   "execution_count": 123,
   "id": "8d97a584",
   "metadata": {
    "code_folding": [
     0
    ]
   },
   "outputs": [],
   "source": [
    "# saving the set values\n",
    "No_samples = No_samples_.children[1].value\n",
    "Temp_std = Temp_std_.children[1].value + 273.15*0.05 #K\n",
    "Rad_std = Rad_std_.children[1].value * 10**(-6)   #m\n",
    "Thick_std = Thick_std_.children[1].value * 10**(-6)   #m\n",
    "Rr_coef_std = Rr_coef_std_.children[1].value\n",
    "Dif_coef_std = Dif_coef_std_.children[1].value * 10**(-15)\n",
    "Init_c_std = Init_c_std_.children[1].value\n",
    "Vol_per_std = Vol_per_std_.children[1].value\n",
    "Iapp_std = Iapp_std_.children[1].value"
   ]
  },
  {
   "cell_type": "code",
   "execution_count": 124,
   "id": "dc3c292c",
   "metadata": {
    "code_folding": [
     0
    ]
   },
   "outputs": [],
   "source": [
    "if UQ_.children[1].value == 'Yes':\n",
    "        rootgrp = Dataset('SPM_input.nc', 'r+', format='NETCDF4')\n",
    "        # no_samples\n",
    "        no_samples_dim = rootgrp.createDimension('no_samples_dim', 1)\n",
    "        no_samples = rootgrp.createVariable('no_samples', 'i4', ('no_samples_dim',))\n",
    "        no_samples.description = 'No. of samples'\n",
    "        no_samples.units = 'unitless'\n",
    "        no_samples[0] = No_samples\n",
    "        # Temp_std\n",
    "        if Temp_std != 0:\n",
    "            temp_std_dim = rootgrp.createDimension('temp_std_dim', 1)\n",
    "            temp_std = rootgrp.createVariable('temp_std', 'f8', ('temp_std_dim',))\n",
    "            temp_std.description = 'Std of temperature'\n",
    "            temp_std.units = 'K'\n",
    "            temp_std[0] = Temp_std\n",
    "        # Rad_std\n",
    "        if Rad_std != 0:\n",
    "            rad_std_dim = rootgrp.createDimension('rad_std_dim', 1)\n",
    "            rad_std = rootgrp.createVariable('rad_std', 'f8', ('rad_std_dim',))\n",
    "            rad_std.description = 'Std of mean particle radius'\n",
    "            rad_std.units = 'm'\n",
    "            rad_std[0] = Rad_std\n",
    "        # Thick_std\n",
    "        if Thick_std != 0:\n",
    "            thick_std_dim = rootgrp.createDimension('thick_std_dim', 1)\n",
    "            thick_std = rootgrp.createVariable('thick_std', 'f8', ('thick_std_dim',))\n",
    "            thick_std.description = 'Std of electrode thickness'\n",
    "            thick_std.units = 'm'\n",
    "            thick_std[0] = Thick_std\n",
    "        # Rr_std\n",
    "        if Rr_coef_std != 0:\n",
    "            rr_coef_std_dim = rootgrp.createDimension('rr_coef_std_dim', 1)\n",
    "            rr_coef_std = rootgrp.createVariable('rr_coef_std', 'f8', ('rr_coef_std_dim',))\n",
    "            rr_coef_std.description = 'Std of reaction rate coefficient'\n",
    "            rr_coef_std.units = '$Am^{-2}(m^3mol^{-1})^{1.5}$'\n",
    "            rr_coef_std[0] = Rr_coef_std\n",
    "        # Dif_coef\n",
    "        if Dif_coef_std != 0:\n",
    "            dif_coef_std_dim = rootgrp.createDimension('dif_coef_std_dim', 1)\n",
    "            dif_coef_std = rootgrp.createVariable('dif_coef_std', 'f8', ('dif_coef_std_dim',))\n",
    "            dif_coef_std.description = 'Std of diffusion coefficient'\n",
    "            dif_coef_std.units = '$m^2 s^{-1}$'\n",
    "            dif_coef_std[0] = Dif_coef_std\n",
    "        # Init_c_std\n",
    "        if Init_c_std != 0:\n",
    "            init_c_std_dim = rootgrp.createDimension('init_c_std_dim', 1)\n",
    "            init_c_std = rootgrp.createVariable('init_c_std', 'f8', ('init_c_std_dim',))\n",
    "            init_c_std.description = 'Std of initial concentration'\n",
    "            init_c_std.units = '$mol m^{-3}$'\n",
    "            init_c_std[0] = Init_c_std\n",
    "        # Vol_per_std\n",
    "        if Vol_per_std != 0:\n",
    "            vol_per_std_dim = rootgrp.createDimension('vol_per_std_dim', 1)\n",
    "            vol_per_std = rootgrp.createVariable('vol_per_std', 'f8', ('vol_per_std_dim',))\n",
    "            vol_per_std.description = 'Std of active material volume fraction'\n",
    "            vol_per_std.units = '%'\n",
    "            vol_per_std[0] = Vol_per_std\n",
    "        # Iapp_std\n",
    "        if Iapp_std != 0:\n",
    "            iapp_std_dim = rootgrp.createDimension('iapp_std_dim', 1)\n",
    "            iapp_std = rootgrp.createVariable('iapp_std', 'f8', ('iapp_std_dim',))\n",
    "            iapp_std.description = 'Std of initial concentration'\n",
    "            iapp_std.units = 'A'\n",
    "            iapp_std[0] = Iapp_std\n",
    "        rootgrp.close()"
   ]
  },
  {
   "cell_type": "markdown",
   "id": "93f1d44f",
   "metadata": {},
   "source": [
    "$\\bf{\\mbox{Compiling and running the main program}}$"
   ]
  },
  {
   "cell_type": "markdown",
   "id": "95577249",
   "metadata": {},
   "source": [
    "The following cells are used to compile all relevant files and the run the main program. The first cell executes a terminal command within the directory this file is located. In this case, the cell runs the \"make\" command which compiles all relevent files. The following cell executes \"make exe\" which runs the executable created by the first cell. The laste cell of this section executes \"make clean\" which deletes previously generated files and allows for the first cell to be run again. This cell should only be run if there are any errors with the previous cells."
   ]
  },
  {
   "cell_type": "code",
   "execution_count": 95,
   "id": "b6587b7b",
   "metadata": {
    "code_folding": []
   },
   "outputs": [
    {
     "name": "stdout",
     "output_type": "stream",
     "text": [
      "gfortran  `nf-config --fflags`  -c input_output_netcdf.f90 `nf-config --flibs` -llapack  -o input_output_netcdf.o\n",
      "gfortran  `nf-config --fflags`  -c pde.f90 `nf-config --flibs` -llapack  -o pde.o\n",
      "gfortran  `nf-config --fflags`  input_output_netcdf.o pde.o main.f90 `nf-config --flibs` -llapack  -o test.out\n",
      "rm -f *.o *.mod\n",
      "chmod +x uq_code/sens_ana.sh\n",
      "chmod +x uq_code/up_code.sh\n",
      "Crank-Nicolson solver ready\n",
      "Input successful\n",
      "Compilation sucessful\n"
     ]
    }
   ],
   "source": [
    "# Run this cell to compile the code and create the executables\n",
    "!make"
   ]
  },
  {
   "cell_type": "code",
   "execution_count": 125,
   "id": "67eca8a9",
   "metadata": {
    "code_folding": [
     0
    ]
   },
   "outputs": [
    {
     "name": "stdout",
     "output_type": "stream",
     "text": [
      "Running Serial code\r\n"
     ]
    }
   ],
   "source": [
    "# Run this cell to execute the code and generate data\n",
    "!make exe"
   ]
  },
  {
   "cell_type": "code",
   "execution_count": 13,
   "id": "653a2387",
   "metadata": {
    "code_folding": []
   },
   "outputs": [
    {
     "name": "stdout",
     "output_type": "stream",
     "text": [
      "rm -f *.o *.mod *.nc *chp test.out\r\n",
      "rm -f uq_code/*.nc uq_code/*.csv\r\n",
      "rm -r uq_code/data_store_sens\r\n",
      "rm: cannot remove 'uq_code/data_store_sens': No such file or directory\r\n",
      "make: *** [Makefile:83: clean] Error 1\r\n"
     ]
    }
   ],
   "source": [
    "# If errors are being displayed, run this cell to delete all files created by make. \n",
    "# Next, run the first and second cells of this section again\n",
    "!make clean"
   ]
  },
  {
   "cell_type": "markdown",
   "id": "803932f4",
   "metadata": {},
   "source": [
    "$\\bf{\\mbox{Plotting}}$"
   ]
  },
  {
   "cell_type": "markdown",
   "id": "dea4d9f7",
   "metadata": {},
   "source": [
    "Run the cell below to display the animation of the data that was generated. The cell displays plots of Lithium concentration across the particle radius as a function of time. It also displays the concentration across the particle as a coloured contour plot as well as plot of the ouput voltage against time step."
   ]
  },
  {
   "cell_type": "code",
   "execution_count": 66,
   "id": "07390515",
   "metadata": {
    "code_folding": [
     0
    ]
   },
   "outputs": [],
   "source": [
    "# Creates a pop up window with the plotted data\n",
    "plt.close()\n",
    "# reading in the NetCDF data from SP_output.nc\n",
    "dat = NC.Dataset(\"SP_output.nc\", \"r\", format=\"NETCDF4\")\n",
    "do_volt = dat['volt_do'][:][0]\n",
    "dt = dat['dt'][:][0]\n",
    "\n",
    "#creating figure and axes dependent on whether voltage data is to be written or not\n",
    "if do_volt == 1:\n",
    "\tfig = plt.figure(figsize=(10,8))\n",
    "\tax1 = plt.subplot2grid((2,2),(0,0))\n",
    "\tax2 = plt.subplot2grid((2,2),(0,1))\n",
    "\tax3 = plt.subplot2grid((2,2),(1,0), colspan=2)\n",
    "else:\n",
    "\tfig = plt.figure(figsize=(10,4))\n",
    "\tax1 = plt.subplot2grid((1,2),(0,0))\n",
    "\tax2 = plt.subplot2grid((1,2),(0,1))\n",
    "\n",
    "\n",
    "# Subplot 1 - Animtion of lithium concentration \n",
    "# accessing the 2d concentration data and creating a time and space axis\n",
    "c = dat['conc'][:]\n",
    "\n",
    "t_steps = np.shape(c)[0]\n",
    "r_steps = dat['space_steps'][:][0]\n",
    "rad = dat['rad'][:][0]*10**(6)\n",
    "time_axis = np.linspace(0, t_steps-1, t_steps-1).astype(int)\n",
    "x_axis = np.linspace(0, rad, r_steps, endpoint=True)\n",
    "\n",
    "# animation of the concentration data \n",
    "# the main parts of the  animation code were taken from:\n",
    "# https://brushingupscience.com/2016/06/21/matplotlib-animations-the-easy-way/\n",
    "\n",
    "intervaltime = 0.5   #time between each animations step in ms\n",
    "\n",
    "# plotting the first graph which is a 2D line of lithium ion concentration\n",
    "# with respect to the particle radius\n",
    "line, = ax1.plot(x_axis, c[0])\n",
    "\n",
    "# function evolving the animation, which is called each frame \n",
    "# the x-axis is the particle radius, so only the x-axis data\n",
    "# i.e. the lithium concantration changes with simulation time\n",
    "def animate(t):\n",
    "    line.set_ydata(c[t,:])\n",
    "    return line,\n",
    "\n",
    "# creating the animation using matplotlib's FunAnimation\n",
    "# the arguments to be passed:\n",
    "# figure of the graph  - fig from fix,ax = plt.subplots())\n",
    "# function evolving the animation - animate(t)\n",
    "# interval time between each timesetep - intervaltime\n",
    "# frames, the array to iterate over - time_axis\n",
    "# blit - blitting set to true\n",
    "animation = FuncAnimation(fig, animate, interval=intervaltime, frames=time_axis, blit=True)\n",
    "\n",
    "# customise the graph with axes labels, major and minor ticks, labels etc.\n",
    "ax1.set_xlabel('Distance from particle centre [$\\mu m$]', size=8)\n",
    "ax1.xaxis.set_minor_locator(AutoMinorLocator())\n",
    "ax1.tick_params(axis='x', labelsize=7)\n",
    "ax1.set_ylabel('Lithium concentration $mol*m^{-3}$', size=8)\n",
    "ax1.set_ylim(np.min(c)-1*10**(-9), np.max(c)+1*10**(-9))\n",
    "ax1.yaxis.set_minor_locator(AutoMinorLocator())\n",
    "ax1.tick_params(axis='y', labelsize=7)\n",
    "ax1.ticklabel_format(axis='both', style=\"sci\", useMathText=True)\n",
    "ax1.xaxis.offsetText.set_fontsize(7)\n",
    "ax1.yaxis.offsetText.set_fontsize(7)\n",
    "ax1.set_title('Lithium Concentration Across Particle Radius', size=10, pad=15.0)\n",
    "\n",
    "# Subplot 2 - pcolorplot of concentration data\n",
    "\n",
    "# most of the required data is the same as in subplot 1\n",
    "# get the discretisation steps of the radius\n",
    "dr = rad/(r_steps-1)\n",
    " \n",
    "# reversed virdis colormap, values over the range are black, under goes white\n",
    "colour = cm.get_cmap('viridis_r').copy()\n",
    "colour.set_under(color='w')\n",
    "colour.set_over(color='k')\n",
    "max_colour = np.max(c)\n",
    "min_colour = np.min(c)\n",
    "colour_range = max_colour - min_colour\n",
    "ticklist = np.linspace(min_colour, max_colour, 6)\n",
    "\n",
    "#create grid for plotting\n",
    "#invert arrays to make sure smallest circle is on top\n",
    "rs = np.linspace(0,rad,r_steps,endpoint=True)\n",
    "rs = rs[::-1]\n",
    "cinv = c[:,::-1]\n",
    "\n",
    "#draw patches of circles\n",
    "#zorder to ensure smallest circle is on top\n",
    "patches = []\n",
    "for i, r in enumerate(rs):\n",
    "    circle = mpl.patches.Circle((0,0), r, zorder=i)\n",
    "    patches.append(circle)\n",
    "\n",
    "#set limits for colourmap and set colours of circles for initial plot\n",
    "#add circles to collection    \n",
    "p = mpl.collections.PatchCollection(patches, cmap=colour)\n",
    "p.set_clim([min_colour,max_colour])\n",
    "colours = np.array(cinv[0,:])\n",
    "p.set_array(colours)\n",
    "ax2.add_collection(p)\n",
    "\n",
    "#set figure labels\n",
    "ax2.set_xlim(-rad,rad)\n",
    "ax2.set_ylim(-rad,rad)\n",
    "ax2.set_xlabel('Distance from particle centre [$\\mu m$]', size=8)\n",
    "ax2.xaxis.set_minor_locator(AutoMinorLocator())\n",
    "ax2.tick_params(axis='x', labelsize=7)\n",
    "ax2.set_ylabel('Distance from particle centre [$\\mu m$]', size=8)\n",
    "ax2.yaxis.set_minor_locator(AutoMinorLocator())\n",
    "ax2.tick_params(axis='y', labelsize=7)\n",
    "ax2.ticklabel_format(axis='both', style=\"sci\", useMathText=True)\n",
    "ax2.xaxis.offsetText.set_fontsize(7)\n",
    "ax2.yaxis.offsetText.set_fontsize(7)\n",
    "ax2.set_title('Contour Plot of Concentration inside Particle', size=10, pad=15.0)\n",
    "cbar = ax2.figure.colorbar(p, ax=ax2, cmap=colour, ticks=ticklist)\n",
    "cbar.ax.tick_params(labelsize=7)\n",
    "cbar.ax.set_ylabel('Lithium concentration $mol*m^{-3}$', size=8)\n",
    "cbar.ax.yaxis.set_major_formatter(StrMethodFormatter(\"{x:.10f}\"))\n",
    "\n",
    "# animation function for the circle plot animation\n",
    "#only changes the colours of the circles without redrawing them\n",
    "# the concentration data for each timestep is feeded into a colour map\n",
    "# the inteval and frames are the same as in subplot 1 and blitting is set to true\n",
    "def animate_pcol(t):\n",
    "    colours = np.array(cinv[t,:])\n",
    "    p.set_array(colours)\n",
    "    \n",
    "    return p,\n",
    "\n",
    "animation_pcol = FuncAnimation(fig, animate_pcol, interval=intervaltime, frames=time_axis, blit=True)\n",
    "\n",
    "# Subplot 3 - plot of voltage output if do_volt set to true\n",
    "if do_volt == 1:\n",
    "\n",
    "\t# accessing the voltage data and setting the number of time steps as x-axis\n",
    "\tvolt = dat['volt'][:][:,0]\n",
    "\ttime = np.linspace(0, t_steps, t_steps)\n",
    "\n",
    "\t# plotting the 2D graph and customising it\n",
    "\tax3.plot(time*dt, volt)\n",
    "\tax3.set_xlabel('Time [s]', size=8)\n",
    "\tax3.xaxis.set_minor_locator(AutoMinorLocator())\n",
    "\tax3.tick_params(axis='x', labelsize=7)\n",
    "\tax3.set_ylabel('Voltage [V]', size=8)\n",
    "\tax3.yaxis.set_minor_locator(AutoMinorLocator())\n",
    "\tax3.tick_params(axis='y', labelsize=7)\n",
    "\tax3.ticklabel_format(axis='both', style=\"sci\", useMathText=True)\n",
    "\tax3.xaxis.offsetText.set_fontsize(7)\n",
    "\tax3.yaxis.offsetText.set_fontsize(7)\n",
    "\tax3.set_title('Voltage output', size=10, pad=15.0)\n",
    "\n",
    "\t# animation of an curser that moves with the time axis with the same interval and frames\n",
    "\t# as the other two animations\n",
    "\tvl = ax3.axvline(time[0]*dt, color='black', linestyle=':')\n",
    "\tax3.set_xlim()\n",
    "\n",
    "\tdef animate_t_bar(t):\n",
    "\t\tvl.set_xdata(time[t]*dt)\n",
    "\t\treturn vl,\n",
    "\n",
    "\tanimation_t_bar = FuncAnimation(fig, animate_t_bar, interval=intervaltime, frames=time_axis, blit=True)\n",
    "\n",
    "plt.draw()\n",
    "plt.tight_layout()\n",
    "plt.show()\n",
    "\n",
    "dat.close()"
   ]
  },
  {
   "cell_type": "markdown",
   "id": "50cc9539",
   "metadata": {},
   "source": [
    "$\\bf{\\mbox{Sensitivity Analysis}}$"
   ]
  },
  {
   "cell_type": "markdown",
   "id": "86369560",
   "metadata": {},
   "source": [
    "The following cells run and then display the sensitivity analysis. In order to display multiple plots simply run the plotting cells one after another without closing the previously pop up window."
   ]
  },
  {
   "cell_type": "code",
   "execution_count": 149,
   "id": "0b73b965",
   "metadata": {},
   "outputs": [
    {
     "name": "stdout",
     "output_type": "stream",
     "text": [
      "(cd ./uq_code && ./sens_ana.sh False)\n",
      "SENSITIVITY ANALYSIS\n",
      "\n",
      "Preparing database store\n",
      "Getting input Parameters and generating data\n",
      "Generating input files\n",
      "1/10\n",
      "Running Serial code\n",
      "2/10\n",
      "Running Serial code\n",
      "3/10\n",
      "Running Serial code\n",
      "4/10\n",
      "Running Serial code\n",
      "5/10\n",
      "Running Serial code\n",
      "6/10\n",
      "Running Serial code\n",
      "7/10\n",
      "Running Serial code\n",
      "8/10\n",
      "Running Serial code\n",
      "9/10\n",
      "Running Serial code\n",
      "10/10\n",
      "Running Serial code\n",
      "Visualising Results\n"
     ]
    }
   ],
   "source": [
    "# Perform sensitivity analysis, following cell visualises output\n",
    "!make sensitive"
   ]
  },
  {
   "cell_type": "code",
   "execution_count": 152,
   "id": "11e7dca0",
   "metadata": {
    "code_folding": [
     0
    ]
   },
   "outputs": [],
   "source": [
    "# Creates pop up window that visualises the sensitivity analysis\n",
    "#Set mean of variables here\n",
    "params = ['temp','rad','thick','rr_coef','dif_coef','init_c','max_c','vol_per','iapp']\n",
    "\n",
    "#Import the original parameters from the original input file and save to a vector\n",
    "dat_inp = NC.Dataset(\"uq_code/data_store_sens/SPM_input_ori.nc\", \"r\", format=\"NETCDF4\")\n",
    "\n",
    "mu = np.array([dat_inp['temp'][:][0],\n",
    "               dat_inp['rad'][:][0],\n",
    "               dat_inp['thick'][:][0],\n",
    "               dat_inp['rr_coef'][:][0],\n",
    "               dat_inp['dif_coef'][:][0],\n",
    "               dat_inp['init_c'][:][0],\n",
    "               dat_inp['max_c'][:][0],\n",
    "               dat_inp['vol_per'][:][0],\n",
    "               dat_inp['iapp'][:][0]])\n",
    "\n",
    "sim_steps = dat_inp['sim_steps'][:][0]\n",
    "dt = dat_inp['dt'][:][0]\n",
    "\n",
    "#Auxilliary 2D array of variable means, identical columns\n",
    "Mu_s = np.tile(mu.reshape((9,1)),(1,sim_steps))\n",
    "\n",
    "#Set value of perturbation (eps) here\n",
    "#Set h as a matrix for element-wise division, identical columns with elements = h_i\n",
    "eps = 1e-6\n",
    "h_i = (eps*mu).reshape((9,1))\n",
    "h = np.tile(h_i,(1, sim_steps))\n",
    "\n",
    "#Obtain mean voltage curve V_0 here, each row identical\n",
    "#9 rows representing variables\n",
    "#columns represent time steps\n",
    "V_0 = np.zeros((9,sim_steps))\n",
    "dat_mu = NC.Dataset(\"uq_code/data_store_sens/SP_output_0.nc\", \"r\", format=\"NETCDF4\")\n",
    "volt_0 = np.array(dat_mu['volt'][:][:,0])\n",
    "V_0 = np.tile(volt_0, (9, 1))\n",
    "\n",
    "#Obtain perturbed voltages here\n",
    "#9 rows representing variables\n",
    "#Columns representing timesteps\n",
    "Vs = np.zeros((9,sim_steps))\n",
    "\n",
    "for i in range(1, 10, 1):\n",
    "    dat = NC.Dataset(f\"uq_code/data_store_sens/SP_output_{i}.nc\", \"r\", format=\"NETCDF4\")\n",
    "    Vs[i-1, :] = np.array(dat['volt'][:][:,0])\n",
    "    dat.close()\n",
    "\n",
    "#Compute dV/dx as a function of time\n",
    "dV_dx = np.divide((Vs - V_0),h)\n",
    "\n",
    "#Compute absolute scaled sensitivity using element-wise multiplication\n",
    "#each column i of the matrix represents the sensitivities for each paramter at time t=i\n",
    "V_first_sensitivities = np.abs(Mu_s*dV_dx)\n",
    "\n",
    "#Put the data into a data frame, and save to .csv\n",
    "dat_fram = {'temp_sens': V_first_sensitivities[0, :],\n",
    "            'rad_sens': V_first_sensitivities[1, :],\n",
    "            'thick_sens': V_first_sensitivities[2, :],\n",
    "            'rr_coef_sens': V_first_sensitivities[3, :],\n",
    "            'dif_coef_sens': V_first_sensitivities[4, :],\n",
    "            'init_c_sens': V_first_sensitivities[5, :],\n",
    "            'max_c_sens': V_first_sensitivities[6, :],\n",
    "            'vol_per_sens': V_first_sensitivities[7, :],\n",
    "            'iapp_sens': V_first_sensitivities[8, :],\n",
    "            'temp_dvdx': dV_dx[0, :],\n",
    "            'rad_dvdx': dV_dx[1, :],\n",
    "            'thick_dvdx': dV_dx[2, :],\n",
    "            'rr_coef_dvdx': dV_dx[3, :],\n",
    "            'dif_coef_dvdx': dV_dx[4, :],\n",
    "            'init_c_dvdx': dV_dx[5, :],\n",
    "            'max_c_dvdx': dV_dx[6, :],\n",
    "            'vol_per_dvdx': dV_dx[7, :],\n",
    "            'iapp_dvdx': dV_dx[8, :]}\n",
    "\n",
    "cols = ['temp_sens', 'rad_sens', 'thick_sens', 'rr_coef_sens', 'dif_coef_sens', 'init_c_sens', 'max_c_sens', 'vol_per_sens', 'iapp_sens',\n",
    "        'temp_dvdx', 'rad_dvdx', 'thick_dvdx', 'rr_coef_dvdx', 'dif_coef_dvdx', 'init_c_dvdx', 'max_c_dvdx', 'vol_per_dvdx', 'iapp_dvdx']\n",
    "df = pd.DataFrame(dat_fram, columns=cols)\n",
    "df.to_csv('sens_data.csv', index=False)\n",
    "\n",
    "\n",
    "#plot as animation\n",
    "fig, ax = plt.subplots(figsize=(10,6))\n",
    "\n",
    "x = np.arange(0, 9, 1)\n",
    "\n",
    "#time between frames\n",
    "intervaltime = 0.5\n",
    "\n",
    "#plot first frame\n",
    "line, = plt.plot(x, V_first_sensitivities[:, 0], 'o-')\n",
    "\n",
    "#definition of animation\n",
    "def animate(i):\n",
    "    line.set_ydata(V_first_sensitivities[:, i])\n",
    "    time.set_text(('T=')+str(i*dt)+(' s'))\n",
    "    return line, time,\n",
    "\n",
    "#Design plot\n",
    "ax.set_xticks(x)\n",
    "ax.set_xticklabels(params, rotation=45)\n",
    "ax.set_ylabel('Absolute scaled sensitivity of $V$')\n",
    "ax.set_xlabel('Parameter')\n",
    "ax.set_ylim(np.min(V_first_sensitivities)+10**(-9)-0.1, np.max(V_first_sensitivities)+1)\n",
    "ax.grid()\n",
    "ax.set_title('First Order Sensitivities Over Time')\n",
    "\n",
    "time = ax.text(0.1,0.85, \"\", bbox={'facecolor':'w', 'alpha':0.5, 'pad':5}, transform=ax.transAxes)\n",
    "\n",
    "#plot animation\n",
    "animate_sensitivities = FuncAnimation(fig, animate,interval=10, frames=range(1,sim_steps), blit=True)\n",
    "\n",
    "dat_inp.close()\n",
    "dat_mu.close()\n",
    "\n",
    "plt.show()\n"
   ]
  },
  {
   "cell_type": "markdown",
   "id": "168072bb",
   "metadata": {},
   "source": [
    "$\\bf{\\mbox{Uncertainty Quantification}}$"
   ]
  },
  {
   "cell_type": "markdown",
   "id": "f5d297a5",
   "metadata": {},
   "source": [
    "The following cells run and then display the uncertainty quantification. In order to display multiple plots simply run the plotting cells one after another without closing the previously pop up window."
   ]
  },
  {
   "cell_type": "code",
   "execution_count": 153,
   "id": "ce18a5b2",
   "metadata": {},
   "outputs": [
    {
     "name": "stdout",
     "output_type": "stream",
     "text": [
      "(cd ./uq_code && ./sens_ana.sh True)\n",
      "SENSITIVITY ANALYSIS\n",
      "\n",
      "Preparing database store\n",
      "Getting input Parameters and generating data\n",
      "Generating input files\n",
      "1/10\n",
      "Running Serial code\n",
      "2/10\n",
      "Running Serial code\n",
      "3/10\n",
      "Running Serial code\n",
      "4/10\n",
      "Running Serial code\n",
      "5/10\n",
      "Running Serial code\n",
      "6/10\n",
      "Running Serial code\n",
      "7/10\n",
      "Running Serial code\n",
      "8/10\n",
      "Running Serial code\n",
      "9/10\n",
      "Running Serial code\n",
      "10/10\n",
      "Running Serial code\n",
      "Visualising Results\n",
      "10\n"
     ]
    }
   ],
   "source": [
    "# Perform approximate uncertainty quantification using standard deviations and sensitivity analysis\n",
    "!make uncer_from_sens"
   ]
  },
  {
   "cell_type": "code",
   "execution_count": 163,
   "id": "4a4b5c97",
   "metadata": {
    "code_folding": [
     0,
     1
    ]
   },
   "outputs": [],
   "source": [
    "# Create pop up widow that visualises approximate uncertainty quatification\n",
    "#Get the results from the mean parameters and save to an array\n",
    "dat_mu = NC.Dataset(f\"uq_code/data_store_sens/SP_output_0.nc\", \"r\", format=\"NETCDF4\")\n",
    "volt_dat_mu = np.array(dat_mu['volt'][:][:,0])\n",
    "\n",
    "#Get the number of time steps and the step length in order to create a time x axis in seconds\n",
    "t_steps = dat_mu['sim_steps'][:][0]\n",
    "dt = dat_mu['dt'][:][0]\n",
    "x = (np.linspace(0, t_steps, t_steps).astype(int))*dt\n",
    "\n",
    "#Plot the mean voltage\n",
    "plt.plot(x, volt_dat_mu, color='black', label='Mean Voltage')\n",
    "plt.title('Uncertainty in Voltage Calculation', pad=15.0)\n",
    "plt.xlabel('Time [s]')\n",
    "plt.ylabel('Voltage [V]')\n",
    "plt.grid()\n",
    "\n",
    "std_V_dat = pd.read_csv('uq_code/data_store_sens/std_V_dat.csv')\n",
    "\n",
    "std_V = np.array(std_V_dat['std_V'][:])\n",
    "low_b = volt_dat_mu-(2*std_V)\n",
    "up_b = volt_dat_mu+(2*std_V)\n",
    "plt.fill_between(x, low_b, up_b, alpha=0.2, label='95% Confidence (SDs)', color='C3')\n",
    "plt.plot(x, low_b, alpha=0.5, color='C3')\n",
    "plt.plot(x, up_b, alpha=0.5, color='C3')\n",
    "\n",
    "#Display the plot\n",
    "plt.legend()\n",
    "\n",
    "dat_mu.close()\n",
    "\n",
    "plt.show()\n"
   ]
  },
  {
   "cell_type": "code",
   "execution_count": 157,
   "id": "db9dc56b",
   "metadata": {},
   "outputs": [
    {
     "name": "stdout",
     "output_type": "stream",
     "text": [
      "(cd ./uq_code && ./up_code.sh False)\n",
      "UNCERTAINTY PROPAGATION\n",
      "\n",
      "Getting input parameters and generating data\n",
      "Preparing database store\n",
      "Generating Input files\n",
      "1/10\n",
      "Running Serial code\n",
      "2/10\n",
      "Running Serial code\n",
      "3/10\n",
      "Running Serial code\n",
      "4/10\n",
      "Running Serial code\n",
      "5/10\n",
      "Running Serial code\n",
      "6/10\n",
      "Running Serial code\n",
      "7/10\n",
      "Running Serial code\n",
      "8/10\n",
      "Running Serial code\n",
      "9/10\n",
      "Running Serial code\n",
      "10/10\n",
      "Running Serial code\n",
      "Visualising Results\n"
     ]
    }
   ],
   "source": [
    "!make uncertain"
   ]
  },
  {
   "cell_type": "code",
   "execution_count": 164,
   "id": "9d83559e",
   "metadata": {
    "code_folding": [
     0
    ]
   },
   "outputs": [],
   "source": [
    "# Creates pop up window that visualises the uncertainty quantification\n",
    "#Read the input parameters from the original input file\n",
    "inp_dat = NC.Dataset(f\"uq_code/data_store_up/SPM_input_ori.nc\", \"r\", format=\"NETCDF4\")\n",
    "num_samps = inp_dat['no_samples'][:][0]\n",
    "\n",
    "#Get the results from the mean parameters and save to an array\n",
    "dat_mu = NC.Dataset(f\"uq_code/data_store_up/SP_output_0.nc\", \"r\", format=\"NETCDF4\")\n",
    "volt_dat_mu = np.array(dat_mu['volt'][:][:,0])\n",
    "\n",
    "#Get the number of time steps and the step length in order to create a time x axis in seconds\n",
    "t_steps = dat_mu['sim_steps'][:][0]\n",
    "dt = dat_mu['dt'][:][0]\n",
    "x = (np.linspace(0, t_steps, t_steps).astype(int))*dt\n",
    "\n",
    "#Create an array to store all the voltage data from each run\n",
    "volt_array = np.empty((t_steps, (num_samps-1)))\n",
    "\n",
    "#Open the files from the data base, extract the voltage and save to the array\n",
    "for i in range(1, num_samps, 1):\n",
    "    dat = NC.Dataset(f\"uq_code/data_store_up/SP_output_{i}.nc\", \"r\", format=\"NETCDF4\")\n",
    "    volt_array[:, (i-1)] = np.array(dat['volt'][:][:,0])\n",
    "    dat.close()\n",
    "\n",
    "#Calculate the 2.5th and 97.5th percentile of the voltage at each time step to get a 95% confidence\n",
    "ana = np.percentile(volt_array, [2.5, 97.5], axis=1)\n",
    "\n",
    "#Plot the range onto a graph\n",
    "plt.fill_between(x, ana[0, :], ana[1, :], alpha=0.2, label='95% Confidence (random samps)', color='C0')\n",
    "plt.plot(x, ana[0, :], color='C0', alpha=0.5)\n",
    "plt.plot(x, ana[1, :], color='C0', alpha=0.5)\n",
    "\n",
    "#Save the data to a data frame, and a .csv file for the user to be able to move to a different plotting software\n",
    "dat_fram = {'mean volt': volt_dat_mu,\n",
    "            '5th percentile': ana[0,:],\n",
    "            '95th percentile': ana[1,:]}\n",
    "df = pd.DataFrame(dat_fram, columns=['mean', '5th percentile', '95th percentile'])\n",
    "df.to_csv('voltage_confidence_up.csv', index=False)\n",
    "\n",
    "#Plot the mean voltage\n",
    "plt.plot(x, volt_dat_mu, color='black', label='Mean Voltage')\n",
    "plt.title('Uncertainty in Voltage Calculation', pad=15.0)\n",
    "plt.xlabel('Time [s]')\n",
    "plt.ylabel('Voltage [V]')\n",
    "plt.grid()\n",
    "\n",
    "#If the user has performed the sensitivity analysis, and calculated uncertainty using dV_dx (see generate_inp_params.py)...\n",
    "#...They can plot this data on top of the other uncertainty propagation data \n",
    "if (sys.argv[1] == 'True'):\n",
    "    std_V_dat = pd.read_csv('./std_V_dat.csv')\n",
    "\n",
    "    std_V = np.array(std_V_dat['std_V'][:])\n",
    "    low_b = volt_dat_mu-(2*std_V)\n",
    "    up_b = volt_dat_mu+(2*std_V)\n",
    "    plt.fill_between(x, low_b, up_b, alpha=0.2, label='95% Confidence (SDs)', color='C3')\n",
    "    plt.plot(x, low_b, alpha=0.5, color='C3')\n",
    "    plt.plot(x, up_b, alpha=0.5, color='C3')\n",
    "\n",
    "#Display the plot\n",
    "plt.legend()\n",
    "\n",
    "inp_dat.close()\n",
    "dat_mu.close()\n",
    "\n",
    "plt.show()\n",
    "\n"
   ]
  },
  {
   "cell_type": "code",
   "execution_count": 165,
   "id": "57f9cc33",
   "metadata": {
    "code_folding": [
     0
    ]
   },
   "outputs": [],
   "source": [
    "# Creates pop up window that visualises the uncertainty quantification and sensitivity analysis\n",
    "#Read the input parameters from the original input file\n",
    "inp_dat = NC.Dataset(f\"uq_code/data_store_up/SPM_input_ori.nc\", \"r\", format=\"NETCDF4\")\n",
    "num_samps = inp_dat['no_samples'][:][0]\n",
    "\n",
    "#Get the results from the mean parameters and save to an array\n",
    "dat_mu = NC.Dataset(f\"uq_code/data_store_up/SP_output_0.nc\", \"r\", format=\"NETCDF4\")\n",
    "volt_dat_mu = np.array(dat_mu['volt'][:][:,0])\n",
    "\n",
    "#Get the number of time steps and the step length in order to create a time x axis in seconds\n",
    "t_steps = dat_mu['sim_steps'][:][0]\n",
    "dt = dat_mu['dt'][:][0]\n",
    "x = (np.linspace(0, t_steps, t_steps).astype(int))*dt\n",
    "\n",
    "#Create an array to store all the voltage data from each run\n",
    "volt_array = np.empty((t_steps, (num_samps-1)))\n",
    "\n",
    "#Open the files from the data base, extract the voltage and save to the array\n",
    "for i in range(1, num_samps, 1):\n",
    "    dat = NC.Dataset(f\"uq_code/data_store_up/SP_output_{i}.nc\", \"r\", format=\"NETCDF4\")\n",
    "    volt_array[:, (i-1)] = np.array(dat['volt'][:][:,0])\n",
    "    dat.close()\n",
    "\n",
    "#Calculate the 2.5th and 97.5th percentile of the voltage at each time step to get a 95% confidence\n",
    "ana = np.percentile(volt_array, [2.5, 97.5], axis=1)\n",
    "\n",
    "#Plot the range onto a graph\n",
    "plt.fill_between(x, ana[0, :], ana[1, :], alpha=0.2, label='95% Confidence (random samps)', color='C0')\n",
    "plt.plot(x, ana[0, :], color='C0', alpha=0.5)\n",
    "plt.plot(x, ana[1, :], color='C0', alpha=0.5)\n",
    "\n",
    "#Save the data to a data frame, and a .csv file for the user to be able to move to a different plotting software\n",
    "dat_fram = {'mean volt': volt_dat_mu,\n",
    "            '5th percentile': ana[0,:],\n",
    "            '95th percentile': ana[1,:]}\n",
    "df = pd.DataFrame(dat_fram, columns=['mean', '5th percentile', '95th percentile'])\n",
    "df.to_csv('voltage_confidence_up.csv', index=False)\n",
    "\n",
    "#Plot the mean voltage\n",
    "plt.plot(x, volt_dat_mu, color='black', label='Mean Voltage')\n",
    "plt.title('Uncertainty in Voltage Calculation', pad=15.0)\n",
    "plt.xlabel('Time [s]')\n",
    "plt.ylabel('Voltage [V]')\n",
    "plt.grid()\n",
    "\n",
    "#If the user has performed the sensitivity analysis, and calculated uncertainty using dV_dx (see generate_inp_params.py)...\n",
    "#...They can plot this data on top of the other uncertainty propagation data \n",
    "std_V_dat = pd.read_csv('uq_code/data_store_up/std_V_dat.csv')\n",
    "\n",
    "std_V = np.array(std_V_dat['std_V'][:])\n",
    "low_b = volt_dat_mu-(2*std_V)\n",
    "up_b = volt_dat_mu+(2*std_V)\n",
    "plt.fill_between(x, low_b, up_b, alpha=0.2, label='95% Confidence (SDs)', color='C3')\n",
    "plt.plot(x, low_b, alpha=0.5, color='C3')\n",
    "plt.plot(x, up_b, alpha=0.5, color='C3')\n",
    "\n",
    "#Display the plot\n",
    "plt.legend()\n",
    "\n",
    "inp_dat.close()\n",
    "dat_mu.close()\n",
    "\n",
    "plt.show()\n",
    "\n"
   ]
  }
 ],
 "metadata": {
  "kernelspec": {
   "display_name": "Python 3 (ipykernel)",
   "language": "python",
   "name": "python3"
  },
  "language_info": {
   "codemirror_mode": {
    "name": "ipython",
    "version": 3
   },
   "file_extension": ".py",
   "mimetype": "text/x-python",
   "name": "python",
   "nbconvert_exporter": "python",
   "pygments_lexer": "ipython3",
   "version": "3.10.6"
  }
 },
 "nbformat": 4,
 "nbformat_minor": 5
}
