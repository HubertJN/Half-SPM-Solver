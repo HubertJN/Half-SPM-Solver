{
 "cells": [
  {
   "cell_type": "markdown",
   "id": "8efdbeef",
   "metadata": {},
   "source": [
    "# Tutorial"
   ]
  },
  {
   "cell_type": "markdown",
   "id": "4cf4b295",
   "metadata": {},
   "source": [
    "This notebook serves as a tutorial for how to use the Single Particle Model Code. First, begin by running the next cell in order to import all necessary packages for executing the code within this jupyter notebook."
   ]
  },
  {
   "cell_type": "code",
   "execution_count": 1,
   "id": "6ab36f96",
   "metadata": {
    "code_folding": [
     0
    ]
   },
   "outputs": [],
   "source": [
    "# Import necessary packages\n",
    "%matplotlib tk\n",
    "import ipywidgets as widgets\n",
    "from IPython.display import display\n",
    "from ipywidgets import HBox, Label\n",
    "from netCDF4 import Dataset\n",
    "import netCDF4 as NC\n",
    "import numpy as np\n",
    "import matplotlib.pyplot as plt\n",
    "import matplotlib as mpl\n",
    "import matplotlib.cm as cm\n",
    "from matplotlib import animation\n",
    "from mpl_toolkits.axes_grid1 import make_axes_locatable\n",
    "from matplotlib.ticker import (StrMethodFormatter, AutoMinorLocator)\n",
    "from matplotlib.animation import FuncAnimation"
   ]
  },
  {
   "cell_type": "markdown",
   "id": "a366cf0e",
   "metadata": {},
   "source": [
    "$\\bf{\\mbox{Generating the input file}}$"
   ]
  },
  {
   "cell_type": "markdown",
   "id": "f03b54c5",
   "metadata": {},
   "source": [
    "The following cells set the input parameters required for the half-SPM simulation.\n",
    "A $\\bf{\\mbox{new simulation}}$ can be started by setting 'Starting from checkpoint file' to 'No' and setting the input parameters in the following cells. A NetCDF file called 'SPM_input.nc' will automatically be created which is then read by the programme.\n",
    "\n",
    "The simulation can also be $\\bf{\\mbox{continued from a checkpoint}}$ file that is created during the first run by setting 'Starting from checkpoint file' to 'yes'. In that case, $\\bf{\\mbox{only the next two cells have to be run}}$ (provided the original 'input.nc' file still exists) and no further parameters have to be set."
   ]
  },
  {
   "cell_type": "code",
   "execution_count": 3,
   "id": "d022fd32",
   "metadata": {},
   "outputs": [
    {
     "data": {
      "application/vnd.jupyter.widget-view+json": {
       "model_id": "cb3fdaec20804d04a070c6a369ab458d",
       "version_major": 2,
       "version_minor": 0
      },
      "text/plain": [
       "HBox(children=(Label(value='Starting from checkpoint file'), Select(index=1, options=('Yes', 'No'), value='No'…"
      ]
     },
     "metadata": {},
     "output_type": "display_data"
    },
    {
     "data": {
      "application/vnd.jupyter.widget-view+json": {
       "model_id": "682946c9b3724b67ad37de0659931ab6",
       "version_major": 2,
       "version_minor": 0
      },
      "text/plain": [
       "HBox(children=(Label(value='No. of simulation steps'), BoundedIntText(value=1000, max=1000000000, min=1)))"
      ]
     },
     "metadata": {},
     "output_type": "display_data"
    },
    {
     "data": {
      "application/vnd.jupyter.widget-view+json": {
       "model_id": "642181baef9d4a53b878098cf9bd1c6d",
       "version_major": 2,
       "version_minor": 0
      },
      "text/plain": [
       "HBox(children=(Label(value='Output written every [n] steps'), BoundedIntText(value=5, max=1000000000, min=1)))"
      ]
     },
     "metadata": {},
     "output_type": "display_data"
    }
   ],
   "source": [
    "Checkpoint_ =  HBox([Label('Starting from checkpoint file'), widgets.Select(options=['Yes', 'No'], value='No', disabled=False)])\n",
    "Sim_steps_c = HBox([Label('No. of simulation steps'), widgets.BoundedIntText(value=1000, min=1, max=10**9, disabled=False)])\n",
    "Out_steps_c = HBox([Label('Output written every [n] steps'), widgets.BoundedIntText(value=5, min=1, max=10**9, disabled=False)])\n",
    "display(Checkpoint_, Sim_steps_c, Out_steps_c)"
   ]
  },
  {
   "cell_type": "code",
   "execution_count": 4,
   "id": "ee3ca169",
   "metadata": {
    "code_folding": [
     0,
     1,
     8
    ]
   },
   "outputs": [],
   "source": [
    "# Checkpoint check\n",
    "if Checkpoint_.children[1].value == 'Yes':\n",
    "        Checkpoint = 1\n",
    "        rootgrp = NC('SPM_input.nc', 'r+', format='NETCDF4')\n",
    "        rootgrp['checkpoint'][:] = Checkpoint\n",
    "        rootgrp['sim_steps'][:] = Sim_steps_c.children[1].value \n",
    "        rootgrp['out_steps'][:] = Out_steps_c.children[1].value \n",
    "        rootgrp.close()\n",
    "else:\n",
    "        Checkpoint = 0"
   ]
  },
  {
   "cell_type": "markdown",
   "id": "d17775ef",
   "metadata": {},
   "source": [
    "The following cell allow to set the input parameters within a suggested range if a new simulation run is set up. The current default values are taken from Chen2020 and for a NCM positive electrode.\n",
    "\n",
    "There is the option to set the input parameters unreseticted in the following cell. This is only recommended for experienced users and only physical valid values should be set.\n",
    "\n",
    "The remaining cells extract the set input parameters, convert them to SI units and creates a NetCDF input file that can be read by the programme."
   ]
  },
  {
   "cell_type": "code",
   "execution_count": 2,
   "id": "aa6e7362",
   "metadata": {
    "code_folding": [
     0
    ]
   },
   "outputs": [
    {
     "data": {
      "application/vnd.jupyter.widget-view+json": {
       "model_id": "01ac9a51818f48718a467ae7905d0022",
       "version_major": 2,
       "version_minor": 0
      },
      "text/plain": [
       "HBox(children=(Label(value='Temperature [°C]'), FloatSlider(value=21.0, max=50.0, min=-20.0, step=1.0)))"
      ]
     },
     "metadata": {},
     "output_type": "display_data"
    },
    {
     "data": {
      "application/vnd.jupyter.widget-view+json": {
       "model_id": "b5423581c19d4869bcbde066e026eeb8",
       "version_major": 2,
       "version_minor": 0
      },
      "text/plain": [
       "HBox(children=(Label(value='Mean particle radius [$\\\\mu m$]'), FloatSlider(value=5.22, max=7.22, min=3.22, ste…"
      ]
     },
     "metadata": {},
     "output_type": "display_data"
    },
    {
     "data": {
      "application/vnd.jupyter.widget-view+json": {
       "model_id": "7ae705b6ab9240d29715594a55338ae6",
       "version_major": 2,
       "version_minor": 0
      },
      "text/plain": [
       "HBox(children=(Label(value='Electrode thickness [$\\\\mu m$]'), FloatSlider(value=75.6, min=50.0)))"
      ]
     },
     "metadata": {},
     "output_type": "display_data"
    },
    {
     "data": {
      "application/vnd.jupyter.widget-view+json": {
       "model_id": "15be09cf1d3f4069b9fa9aeba712778e",
       "version_major": 2,
       "version_minor": 0
      },
      "text/plain": [
       "HBox(children=(Label(value='Reaction rate coeffic[ent($Am^{-2}(m^3mol^{-1})^{1.5}$]'), FloatSlider(value=3.42,…"
      ]
     },
     "metadata": {},
     "output_type": "display_data"
    },
    {
     "data": {
      "application/vnd.jupyter.widget-view+json": {
       "model_id": "ab43320e2dde4c18a0b55df8711160e1",
       "version_major": 2,
       "version_minor": 0
      },
      "text/plain": [
       "HBox(children=(Label(value='Diffusion coefficient [$10^{-15} m^2 s^{-1}$]'), FloatSlider(value=1.48, step=0.01…"
      ]
     },
     "metadata": {},
     "output_type": "display_data"
    },
    {
     "data": {
      "application/vnd.jupyter.widget-view+json": {
       "model_id": "f8a085e43b304237af617b7e96b2ab60",
       "version_major": 2,
       "version_minor": 0
      },
      "text/plain": [
       "HBox(children=(Label(value='Maximum lithium concentration [$mol m^{-3}$]'), FloatSlider(value=51765.0, max=100…"
      ]
     },
     "metadata": {},
     "output_type": "display_data"
    },
    {
     "data": {
      "application/vnd.jupyter.widget-view+json": {
       "model_id": "fe228f7304fd4f47b49e94d2077d9884",
       "version_major": 2,
       "version_minor": 0
      },
      "text/plain": [
       "HBox(children=(Label(value='State of charge [%]'), FloatSlider(value=0.0, step=1.0)))"
      ]
     },
     "metadata": {},
     "output_type": "display_data"
    },
    {
     "data": {
      "application/vnd.jupyter.widget-view+json": {
       "model_id": "e0a94d21e58549a18a64385eeb52b9ac",
       "version_major": 2,
       "version_minor": 0
      },
      "text/plain": [
       "HBox(children=(Label(value='Applied current [A]'), FloatSlider(value=5.0, max=20.0, min=-20.0)))"
      ]
     },
     "metadata": {},
     "output_type": "display_data"
    },
    {
     "data": {
      "application/vnd.jupyter.widget-view+json": {
       "model_id": "aa0a83717744403cb33e91def062360a",
       "version_major": 2,
       "version_minor": 0
      },
      "text/plain": [
       "HBox(children=(Label(value='Active material volume fraction [%]'), FloatSlider(value=66.5)))"
      ]
     },
     "metadata": {},
     "output_type": "display_data"
    },
    {
     "data": {
      "application/vnd.jupyter.widget-view+json": {
       "model_id": "fe4b5f9137324c39a579c44c906713e3",
       "version_major": 2,
       "version_minor": 0
      },
      "text/plain": [
       "HBox(children=(Label(value='Electrode plate area [$m^2$]'), FloatSlider(value=0.1027, max=1.0, min=0.001, step…"
      ]
     },
     "metadata": {},
     "output_type": "display_data"
    },
    {
     "data": {
      "application/vnd.jupyter.widget-view+json": {
       "model_id": "45f23a95bfe04b698b9ba6efe3b5c877",
       "version_major": 2,
       "version_minor": 0
      },
      "text/plain": [
       "HBox(children=(Label(value='No. of simulation steps'), BoundedIntText(value=1000, max=1000000000, min=1)))"
      ]
     },
     "metadata": {},
     "output_type": "display_data"
    },
    {
     "data": {
      "application/vnd.jupyter.widget-view+json": {
       "model_id": "0e43988126ae4f79b11d312da0e2edd8",
       "version_major": 2,
       "version_minor": 0
      },
      "text/plain": [
       "HBox(children=(Label(value='Time step (s)'), FloatSlider(value=2.0, min=0.01, step=0.01)))"
      ]
     },
     "metadata": {},
     "output_type": "display_data"
    },
    {
     "data": {
      "application/vnd.jupyter.widget-view+json": {
       "model_id": "d7eb077381ab4907a81e99153d0fcdcd",
       "version_major": 2,
       "version_minor": 0
      },
      "text/plain": [
       "HBox(children=(Label(value='Output written every [n] steps'), BoundedIntText(value=5, max=1000000000, min=1)))"
      ]
     },
     "metadata": {},
     "output_type": "display_data"
    },
    {
     "data": {
      "application/vnd.jupyter.widget-view+json": {
       "model_id": "e354ddac63c54f799ae637079b37a32e",
       "version_major": 2,
       "version_minor": 0
      },
      "text/plain": [
       "HBox(children=(Label(value='No. of space steps'), FloatSlider(value=20.0, max=1000.0, min=2.0, step=1.0)))"
      ]
     },
     "metadata": {},
     "output_type": "display_data"
    },
    {
     "data": {
      "application/vnd.jupyter.widget-view+json": {
       "model_id": "acbf941c67c545db854f86dbdf463983",
       "version_major": 2,
       "version_minor": 0
      },
      "text/plain": [
       "HBox(children=(Label(value='Output voltage data'), Select(options=('Yes', 'No'), value='Yes')))"
      ]
     },
     "metadata": {},
     "output_type": "display_data"
    }
   ],
   "source": [
    "# set input parameter within given ranges\n",
    "Temp_ = HBox([Label('Temperature [°C]'), widgets.FloatSlider(min=-20.0, max=50.0, value=21.0, step=1)])\n",
    "Rad_ = HBox([Label('Mean particle radius [$\\mu m$]'), widgets.FloatSlider(min=3.22, max=7.22, value=5.22, step=0.01)])\n",
    "Thick_ = HBox([Label('Electrode thickness [$\\mu m$]'), widgets.FloatSlider(min=50.0, max=100.0, value=75.6, step=0.1)])\n",
    "Rr_coef_ = HBox([Label('Reaction rate coeffic[ent($Am^{-2}(m^3mol^{-1})^{1.5}$]'), widgets.FloatSlider(min=1.5, max=6.5, value=3.42, step=0.01)])\n",
    "Dif_coef_ = HBox([Label('Diffusion coefficient [$10^{-15} m^2 s^{-1}$]'), widgets.FloatSlider(min=0, max=100, value=1.48, step=0.01)])\n",
    "Max_c_ = HBox([Label('Maximum lithium concentration [$mol m^{-3}$]'), widgets.FloatSlider(min=0.0, max=100000.0, value=51765.0, step=1)])\n",
    "SOC_ = HBox([Label('State of charge [%]'), widgets.FloatSlider(min=0, max=100, value=0, step=1)])\n",
    "Current_ = HBox([Label('Applied current [A]'), widgets.FloatSlider(min=-20.0, max=20.0, value=5.0, step=0.1)])\n",
    "Vol_per_ = HBox([Label('Active material volume fraction [%]'), widgets.FloatSlider(min = 0.0, max=100.0, value=66.5, step=0.1)])\n",
    "Area_ = HBox([Label('Electrode plate area [$m^2$]'), widgets.FloatSlider(min=0.001, max=1.0, value=0.1027, step=0.001)])\n",
    "Sim_steps_ = HBox([Label('No. of simulation steps'), widgets.BoundedIntText(value=1000, min=1, max=10**9, disabled=False)])\n",
    "Dt_ = HBox([Label('Time step (s)'), widgets.FloatSlider(min=0.01, max=100.0, value=2.0, step=0.01)]) \n",
    "Out_steps_ = HBox([Label('Output written every [n] steps'), widgets.BoundedIntText(value=5, min=1, max=10**9, disabled=False)])\n",
    "Space_steps_ = HBox([Label('No. of space steps'), widgets.FloatSlider(min=2, max=1000, value=20, step=1)])\n",
    "Volt_do_ =  HBox([Label('Output voltage data'), widgets.Select(options=['Yes', 'No'], value='Yes', disabled=False)])\n",
    "\n",
    "display(Temp_, Rad_, Thick_, Rr_coef_, Dif_coef_, Max_c_, SOC_, Current_, Vol_per_, Area_, Sim_steps_, Dt_, Out_steps_, Space_steps_, Volt_do_)"
   ]
  },
  {
   "cell_type": "code",
   "execution_count": null,
   "id": "29766fd7",
   "metadata": {
    "code_folding": [
     0
    ]
   },
   "outputs": [],
   "source": [
    "# unbounded boxes to set paramters outside of suggested ranges if wanted\n",
    "Temp_ = HBox([Label('Temperature [°C]'), widgets.FloatText(value=Temp_.children[1].value, disabled=False)])\n",
    "Rad_ = HBox([Label('Mean particle radius [$\\mu m$]'), widgets.FloatText(value=Rad_.children[1].value, disabled=False)])\n",
    "Thick_ = HBox([Label('Electrode thickness [$\\mu m$]'), widgets.FloatText(value=Thick_.children[1].value, disabled=False)])\n",
    "Rr_coef_ = HBox([Label('Reaction rate coeffic[ent($Am^{-2}(m^3mol^{-1})^{1.5}$]'), widgets.FloatText(value=Rr_coef_.children[1].value, disabled=False)])\n",
    "Dif_coef_ = HBox([Label('Diffusion coefficient [$10^{-15} m^2 s^{-1}$]'), widgets.FloatText(value=Dif_coef_.children[1].value, disabled=False)])\n",
    "Max_c_ = HBox([Label('Maximum lithium concentration [$mol m^{-3}$]'), widgets.FloatText(value=Max_c_.children[1].value, disabled=False)])\n",
    "Current_ = HBox([Label('Applied current [A]'), widgets.FloatText(value=Current_.children[1].value, disabled=False)])\n",
    "Area_ = HBox([Label('Electrode area [$m^2$]'), widgets.FloatText(value=Area_.children[1].value, disabled=False)])\n",
    "Dt_ = HBox([Label('Time step (s)'), widgets.FloatText(value=Dt_.children[1].value, disabled=False)])\n",
    "Space_steps_ = HBox([Label('No. of space steps'), widgets.FloatText(value=Space_steps_.children[1].value, disabled=False)])\n",
    "\n",
    "display(Temp_, Rad_, Thick_, Rr_coef_, Dif_coef_, Max_c_, Current_, Area_, Dt_, Space_steps_)"
   ]
  },
  {
   "cell_type": "code",
   "execution_count": 5,
   "id": "a5fd3743",
   "metadata": {
    "code_folding": [
     0
    ]
   },
   "outputs": [],
   "source": [
    "# saving the values set y the user and adjusting relevant parameters to be in SI units\n",
    "Temp = Temp_.children[1].value + 273.15   #K\n",
    "Rad = Rad_.children[1].value * 10**(-6)   #m\n",
    "Thick = Thick_.children[1].value * 10**(-6)   #m\n",
    "Rr_coef =  Rr_coef_.children[1].value\n",
    "Dif_coef = Dif_coef_.children[1].value * 10**(-15)\n",
    "Max_c = Max_c_.children[1].value\n",
    "# Init_c derived from values in Chen2020:\n",
    "# stoichiometry at 0% SOC = 0.2661, and at 100% SOC = 0.9084\n",
    "# assuming linear behaviour we get x = mcx +c with c = 0.9084\n",
    "# and m = 0.2661-0.9084 = -0.6423\n",
    "Init_c = Max_c * ((SOC_.children[1].value/100)*(-0.6423) + 0.9084)\n",
    "Iapp = Current_.children[1].value / Area_.children[1].value  # A/m^2\n",
    "Vol_per = Vol_per_.children[1].value\n",
    "Sim_steps = Sim_steps_.children[1].value\n",
    "Dt = Dt_.children[1].value\n",
    "Out_steps = Out_steps_.children[1].value\n",
    "Space_steps = Space_steps_.children[1].value\n",
    "if Volt_do_.children[1].value == 'Yes':\n",
    "    Volt_do = 1\n",
    "else:\n",
    "    Volt_do = 0"
   ]
  },
  {
   "cell_type": "code",
   "execution_count": 19,
   "id": "591b283a",
   "metadata": {
    "code_folding": [
     0
    ]
   },
   "outputs": [],
   "source": [
    "#create new NetCDF file in 'writing mode' and 'NETCDF4 format'\n",
    "rootgrp = Dataset('SPM_input.nc', 'w', format='NETCDF4')\n",
    "#creating dimensions for vector holding all the input variables\n",
    "temp_dim = rootgrp.createDimension('temp_dim', 1)\n",
    "rad_dim = rootgrp.createDimension('rad_dim', 1)\n",
    "thick_dim = rootgrp.createDimension('thick_dim', 1)\n",
    "rr_coef_dim = rootgrp.createDimension('rr_coef_dim', 1)\n",
    "dif_coef_dim = rootgrp.createDimension('dif_coef_dim', 1)\n",
    "max_c_dim = rootgrp.createDimension('max_c_dim', 1)\n",
    "init_c_dim = rootgrp.createDimension('init_c_dim', 1)\n",
    "iapp_dim = rootgrp.createDimension('iapp_dim', 1)\n",
    "vol_per_dim = rootgrp.createDimension('vol_per_dim', 1)\n",
    "sim_steps_dim = rootgrp.createDimension('sim_steps_dim', 1)\n",
    "dt_dim = rootgrp.createDimension('dt_dim', 1)\n",
    "out_steps_dim = rootgrp.createDimension('out_steps_dim', 1)\n",
    "space_steps_dim = rootgrp.createDimension('space_steps_dim', 1)\n",
    "volt_do_dim = rootgrp.createDimension('volt_do_dim', 1)\n",
    "checkpoint_dim = rootgrp.createDimension('checkpoint_dim', 1)\n",
    "#createing variable \n",
    "temp = rootgrp.createVariable('temp', 'f8', ('temp_dim',))\n",
    "rad = rootgrp.createVariable('rad', 'f8', ('rad_dim',))\n",
    "thick = rootgrp.createVariable('thick', 'f8', ('thick_dim',))\n",
    "rr_coef = rootgrp.createVariable('rr_coef', 'f8', ('rr_coef_dim',))\n",
    "dif_coef = rootgrp.createVariable('dif_coef', 'f8', ('dif_coef_dim',))\n",
    "max_c = rootgrp.createVariable('max_c', 'f8', ('max_c_dim',))\n",
    "init_c = rootgrp.createVariable('init_c', 'f8', ('init_c_dim',))\n",
    "iapp = rootgrp.createVariable('iapp', 'f8', ('iapp_dim',))\n",
    "vol_per = rootgrp.createVariable('vol_per', 'f8', ('vol_per_dim',))\n",
    "sim_steps = rootgrp.createVariable('sim_steps', 'i4', ('sim_steps_dim',))\n",
    "dt = rootgrp.createVariable('dt', 'f8', ('dt_dim',))\n",
    "out_steps = rootgrp.createVariable('out_steps', 'i4', ('out_steps_dim',))\n",
    "space_steps = rootgrp.createVariable('space_steps', 'i4', ('space_steps_dim',))\n",
    "volt_do = rootgrp.createVariable('volt_do', 'i4', ('volt_do_dim',))\n",
    "checkpoint = rootgrp.createVariable('checkpoint', 'i4', ('checkpoint_dim',))\n",
    "# attributes\n",
    "rootgrp.description = 'Input parameters for SMP model'\n",
    "temp.description = 'Temperature'\n",
    "temp.units = 'K'\n",
    "rad.description = 'Mean particle radius'\n",
    "rad.units = 'm'\n",
    "thick.description = 'Electrode thickness'\n",
    "thick.units = 'm'\n",
    "rr_coef.description = 'Reaction rate coefficient'\n",
    "rr_coef.units = '$Am^{-2}(m^3mol^{-1})^{1.5}$'\n",
    "dif_coef.description ='Diffusion coefficient'\n",
    "dif_coef.units = '$m^2 s^{-1}$'\n",
    "max_c.description = 'Maximum lithium concentration'\n",
    "max_c.units = '$mol m^{-3}$'\n",
    "init_c.description = 'Initial lithium concentration'\n",
    "init_c.units = '$mol m^{-3}$'\n",
    "iapp.description = 'Applied current density'\n",
    "iapp.units = '$A/m^2$'\n",
    "vol_per.description = 'Active material volume fraction'\n",
    "vol_per.units = '%'\n",
    "sim_steps.description = 'Total number of simultion steps'\n",
    "sim_steps.units = 'unitless'\n",
    "dt.description = 'Time step'\n",
    "dt.units = 's'\n",
    "out_steps.description = 'Output written every [n] number of steps'\n",
    "out_steps.units = 'untiless'\n",
    "space_steps.description = 'No. of space steps'\n",
    "space_steps.units = 'unitless'\n",
    "volt_do.description = 'Write voltage data'\n",
    "volt_do.units = 'unitless'\n",
    "checkpoint.description = 'Starting from checkpont file'\n",
    "checkpoint.units = 'unitless'\n",
    "# writing data to input_parameters variable\n",
    "temp[0] = Temp\n",
    "rad[0] = Rad\n",
    "thick[0] = Thick\n",
    "rr_coef[0] = Rr_coef\n",
    "dif_coef[0] = Dif_coef\n",
    "max_c[0] = Max_c\n",
    "init_c[0] = Init_c\n",
    "iapp[0] = Iapp\n",
    "vol_per[0] = Vol_per\n",
    "sim_steps[0] = Sim_steps\n",
    "dt[0] = Dt\n",
    "out_steps[0] = Out_steps\n",
    "space_steps[0] = Space_steps\n",
    "volt_do[0] = Volt_do\n",
    "checkpoint[0] = Checkpoint\n",
    "#closing the NetCDF file\n",
    "rootgrp.close()"
   ]
  },
  {
   "cell_type": "markdown",
   "id": "93f1d44f",
   "metadata": {},
   "source": [
    "$\\bf{\\mbox{Compiling and running the main program}}$"
   ]
  },
  {
   "cell_type": "markdown",
   "id": "db84604c",
   "metadata": {},
   "source": [
    "The following cells are used to compile all relevant files and the run the main program. The first cell executes a terminal command within the directory this file is located. In this case, the cell runs the \"make\" command which compiles all relevent files. The following cell executes \"make exe\" which runs the executable created by the first cell. The laste cell of this section executes \"make clean\" which deletes previously generated files and allows for the first cell to be run again. This cell should only be run if there are any errors with the previous cells."
   ]
  },
  {
   "cell_type": "code",
   "execution_count": 20,
   "id": "b6587b7b",
   "metadata": {
    "code_folding": []
   },
   "outputs": [
    {
     "name": "stdout",
     "output_type": "stream",
     "text": [
      "gfortran  `nf-config --fflags`  -c input_output_netcdf.f90 `nf-config --flibs` -llapack  -o input_output_netcdf.o\n",
      "gfortran  `nf-config --fflags`  -c pde.f90 `nf-config --flibs` -llapack  -o pde.o\n",
      "gfortran  `nf-config --fflags`  input_output_netcdf.o pde.o main.f90 `nf-config --flibs` -llapack  -o test.out\n",
      "rm -f *.o *.mod\n",
      "Crank-Nicolson solver ready\n",
      "Input successful\n",
      "Compilation sucessful\n"
     ]
    }
   ],
   "source": [
    "# Run this cell to compile the code and create the executables\n",
    "!make"
   ]
  },
  {
   "cell_type": "code",
   "execution_count": 22,
   "id": "67eca8a9",
   "metadata": {
    "code_folding": [
     0
    ]
   },
   "outputs": [
    {
     "name": "stdout",
     "output_type": "stream",
     "text": [
      "Running Serial code\r\n"
     ]
    }
   ],
   "source": [
    "# Run this cell to execute the code and generate data\n",
    "!make exe"
   ]
  },
  {
   "cell_type": "code",
   "execution_count": 12,
   "id": "653a2387",
   "metadata": {
    "code_folding": []
   },
   "outputs": [
    {
     "name": "stdout",
     "output_type": "stream",
     "text": [
      "rm -f *.o *.mod *.nc *chp test.out\r\n",
      "rm -f uq_code/*.nc uq_code/*.csv\r\n",
      "rm -r uq_code/data_store_sens\r\n",
      "rm: cannot remove 'uq_code/data_store_sens': No such file or directory\r\n",
      "make: [Makefile:83: clean] Error 1 (ignored)\r\n",
      "Files removed\r\n"
     ]
    }
   ],
   "source": [
    "# If errors are being displayed, run this cell to delete all files created by make. \n",
    "# Next, run the first and second cells of this section again\n",
    "!make clean"
   ]
  },
  {
   "cell_type": "markdown",
   "id": "803932f4",
   "metadata": {},
   "source": [
    "$\\bf{\\mbox{Plotting}}$"
   ]
  },
  {
   "cell_type": "markdown",
   "id": "dea4d9f7",
   "metadata": {},
   "source": [
    "Run the cell below to display the animation of the data that was generated. The cell displays plots of Lithium concentration across the particle radius as a function of time. It also displays the concentration across the particle as a coloured contour plot as well as plot of the ouput voltage against time step."
   ]
  },
  {
   "cell_type": "code",
   "execution_count": 31,
   "id": "bcd94bcf",
   "metadata": {
    "code_folding": [
     0
    ]
   },
   "outputs": [],
   "source": [
    "# Creates a pop up window with the plotted data\n",
    "plt.close()\n",
    "# reading in the NetCDF data from SP_output.nc\n",
    "dat = NC.Dataset(\"SP_output.nc\", \"r\", format=\"NETCDF4\")\n",
    "do_volt = dat['volt_do'][:][0]\n",
    "\n",
    "#creating figure and axes dependent on whether voltage data is to be written or not\n",
    "if do_volt == 1:\n",
    "\tfig = plt.figure(figsize=(10,8))\n",
    "\tax1 = plt.subplot2grid((2,2),(0,0))\n",
    "\tax2 = plt.subplot2grid((2,2),(0,1))\n",
    "\tax3 = plt.subplot2grid((2,2),(1,0), colspan=2)\n",
    "else:\n",
    "\tfig = plt.figure(figsize=(10,4))\n",
    "\tax1 = plt.subplot2grid((1,2),(0,0))\n",
    "\tax2 = plt.subplot2grid((1,2),(0,1))\n",
    "\n",
    "\n",
    "# Subplot 1 - Animtion of lithium concentration \n",
    "# accessing the 2d concentration data and creating a time and space axis\n",
    "c = dat['conc'][:]\n",
    "\n",
    "t_steps = np.shape(c)[0]\n",
    "r_steps = dat['space_steps'][:][0]\n",
    "rad = dat['rad'][:][0]*10**(6)\n",
    "time_axis = np.linspace(0, t_steps-1, t_steps-1).astype(int)\n",
    "x_axis = np.linspace(0, rad, r_steps, endpoint=True)\n",
    "\n",
    "# animation of the concentration data \n",
    "# the main parts of the  animation code were taken from:\n",
    "# https://brushingupscience.com/2016/06/21/matplotlib-animations-the-easy-way/\n",
    "\n",
    "intervaltime = 0.5   #time between each animations step in ms\n",
    "\n",
    "# plotting the first graph which is a 2D line of lithium ion concentration\n",
    "# with respect to the particle radius\n",
    "line, = ax1.plot(x_axis, c[0])\n",
    "\n",
    "# function evolving the animation, which is called each frame \n",
    "# the x-axis is the particle radius, so only the x-axis data\n",
    "# i.e. the lithium concantration changes with simulation time\n",
    "def animate(t):\n",
    "    line.set_ydata(c[t,:])\n",
    "    return line,\n",
    "\n",
    "# creating the animation using matplotlib's FunAnimation\n",
    "# the arguments to be passed:\n",
    "# figure of the graph  - fig from fix,ax = plt.subplots())\n",
    "# function evolving the animation - animate(t)\n",
    "# interval time between each timesetep - intervaltime\n",
    "# frames, the array to iterate over - time_axis\n",
    "# blit - blitting set to true\n",
    "animation = FuncAnimation(fig, animate, interval=intervaltime, frames=time_axis, blit=True)\n",
    "\n",
    "# customise the graph with axes labels, major and minor ticks, labels etc.\n",
    "ax1.set_xlabel('Distance from particle centre [$\\mu m$]', size=8)\n",
    "ax1.xaxis.set_minor_locator(AutoMinorLocator())\n",
    "ax1.tick_params(axis='x', labelsize=7)\n",
    "ax1.set_ylabel('Lithium concentration $mol*m^{-3}$', size=8)\n",
    "ax1.set_ylim(np.min(c)-1*10**(-9), np.max(c)+1*10**(-9))\n",
    "ax1.yaxis.set_minor_locator(AutoMinorLocator())\n",
    "ax1.tick_params(axis='y', labelsize=7)\n",
    "ax1.ticklabel_format(axis='both', style=\"sci\", useMathText=True)\n",
    "ax1.xaxis.offsetText.set_fontsize(7)\n",
    "ax1.yaxis.offsetText.set_fontsize(7)\n",
    "ax1.set_title('Lithium Concentration Across Particle Radius', size=10, pad=15.0)\n",
    "\n",
    "# Subplot 2 - pcolorplot of concentration data\n",
    "\n",
    "# most of the required data is the same as in subplot 1\n",
    "# get the discretisation steps of the radius\n",
    "dr = rad/(r_steps-1)\n",
    " \n",
    "# reversed virdis colormap, values over the range are black, under goes white\n",
    "colour = cm.get_cmap('viridis_r').copy()\n",
    "colour.set_under(color='w')\n",
    "colour.set_over(color='k')\n",
    "max_colour = np.max(c)\n",
    "min_colour = np.min(c)\n",
    "ticklist = np.linspace(c.min(), c.max(), 6)\n",
    "\n",
    "#create grid for plotting\n",
    "x = np.linspace(-rad,rad,r_steps,endpoint=True)\n",
    "y = np.linspace(-rad,rad,r_steps,endpoint=True)\n",
    "\n",
    "# form 2D array of radii\n",
    "z = np.array([np.sqrt(i*i+j*j) for j in y for i in x])\n",
    "\n",
    "# form concentration values; give negative concentration for colourmap if out of range - goes white\n",
    "for idx, r in enumerate(z):\n",
    "\tif (r <= rad):\n",
    "\t\tri = np.rint(r/dr).astype(np.int32)\n",
    "\t\tz[idx] = c[0,:][ri]\n",
    "\telse:\n",
    "\t\tz[idx] = -1\n",
    "\n",
    "# reshape to form 2D array for pcolor\n",
    "Z = z.reshape(r_steps,r_steps)\n",
    "\n",
    "# form meshgrid and plot using pcolor\n",
    "X, Y = np.meshgrid(x,y)\n",
    "cplot = ax2.pcolor(X,Y,Z, cmap=colour, vmin=min_colour, vmax=max_colour, edgecolors='face')\n",
    "ax2.set_xlabel('Distance from particle centre [$\\mu m$]', size=8)\n",
    "ax2.xaxis.set_minor_locator(AutoMinorLocator())\n",
    "ax2.tick_params(axis='x', labelsize=7)\n",
    "ax2.set_ylabel('Distance from particle centre [$\\mu m$]', size=8)\n",
    "ax2.yaxis.set_minor_locator(AutoMinorLocator())\n",
    "ax2.tick_params(axis='y', labelsize=7)\n",
    "ax2.ticklabel_format(axis='both', style=\"sci\", useMathText=True)\n",
    "ax2.xaxis.offsetText.set_fontsize(7)\n",
    "ax2.yaxis.offsetText.set_fontsize(7)\n",
    "ax2.set_title('Contour Plot of Concentration Inside Particle', size=10, pad=15.0)\n",
    "cbar = ax2.figure.colorbar(cplot, ax=ax2, cmap=colour, ticks=ticklist)\n",
    "cbar.ax.tick_params(labelsize=7)\n",
    "cbar.ax.set_ylabel('Lithium Concentration', size=8)\n",
    "cbar.ax.yaxis.set_major_formatter(StrMethodFormatter(\"{x:.10f}\"))\n",
    "\n",
    "# animation function for the pcolor plot animation\n",
    "# works generally the same as for subplot 1\n",
    "# the concentration data for each timestep is created as in the pcolor plot above\n",
    "# while iterating through the time dimension of the concentratoin data\n",
    "# the resulting 2D array is flattened in the end to an 1D array that can be used by FuncAnimation\n",
    "# the inteval and frames are the same as in subplot 1 and blitting is set to true\n",
    "def animate_pcol(t):\n",
    "    z =  np.array([np.sqrt(i*i+j*j) for j in y for i in x])\n",
    "    for idx, r in enumerate(z):\n",
    "\t    if (r <= rad):\n",
    "\t\t    ri = np.rint(r/dr).astype(np.int32)\n",
    "\t\t    z[idx] = c[t,:][ri]\n",
    "\t    else:\n",
    "\t\t    z[idx] = -1\n",
    "    Z = z.reshape(r_steps,r_steps)\n",
    "    cplot.set_array(Z.flatten())\n",
    "    return cplot,\n",
    "\n",
    "animation_pcol = FuncAnimation(fig, animate_pcol, interval=intervaltime, frames=time_axis, blit=True)\n",
    "\n",
    "# Subplot 3 - plot of voltage output if do_volt set to true\n",
    "if do_volt == 1:\n",
    "\n",
    "\t# accessing the voltage data and setting the number of time steps as x-axis\n",
    "\tvolt = dat['volt'][:][:,0]\n",
    "\ttime = np.linspace(0, t_steps, t_steps)\n",
    "\n",
    "\t# plotting the 2D graph and customising it\n",
    "\tax3.plot(time*Dt, volt)\n",
    "\tax3.set_xlabel('Time [s]', size=8)\n",
    "\tax3.xaxis.set_minor_locator(AutoMinorLocator())\n",
    "\tax3.tick_params(axis='x', labelsize=7)\n",
    "\tax3.set_ylabel('Voltage [V]', size=8)\n",
    "\tax3.yaxis.set_minor_locator(AutoMinorLocator())\n",
    "\tax3.tick_params(axis='y', labelsize=7)\n",
    "\tax3.ticklabel_format(axis='both', style=\"sci\", useMathText=True)\n",
    "\tax3.xaxis.offsetText.set_fontsize(7)\n",
    "\tax3.yaxis.offsetText.set_fontsize(7)\n",
    "\tax3.set_title('Voltage Output', size=10, pad=15.0)\n",
    "\n",
    "\t# animation of an curser that moves with the time axis with the same interval and frames\n",
    "\t# as the other two animations\n",
    "\tvl = ax3.axvline(time[0], color='black', linestyle=':')\n",
    "\tax3.set_xlim()\n",
    "\n",
    "\tdef animate_t_bar(t):\n",
    "\t\tvl.set_xdata(time[t])\n",
    "\t\treturn vl,\n",
    "\n",
    "\tanimation_t_bar = FuncAnimation(fig, animate_t_bar, interval=intervaltime, frames=time_axis, blit=True)\n",
    "\n",
    "plt.draw()\n",
    "plt.tight_layout()\n",
    "plt.show()\n",
    "\n",
    "dat.close()"
   ]
  }
 ],
 "metadata": {
  "kernelspec": {
   "display_name": "Python 3 (ipykernel)",
   "language": "python",
   "name": "python3"
  },
  "language_info": {
   "codemirror_mode": {
    "name": "ipython",
    "version": 3
   },
   "file_extension": ".py",
   "mimetype": "text/x-python",
   "name": "python",
   "nbconvert_exporter": "python",
   "pygments_lexer": "ipython3",
   "version": "3.10.6"
  }
 },
 "nbformat": 4,
 "nbformat_minor": 5
}
