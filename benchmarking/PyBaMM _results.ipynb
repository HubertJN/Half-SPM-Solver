{
 "cells": [
  {
   "cell_type": "code",
   "execution_count": 1,
   "id": "25e43e4c",
   "metadata": {},
   "outputs": [],
   "source": [
    "import pybamm\n",
    "import numpy as np\n",
    "import matplotlib.pyplot as plt\n",
    "import matplotlib as mpl\n",
    "import matplotlib.cm as cm\n",
    "from matplotlib import animation\n",
    "from mpl_toolkits.axes_grid1 import make_axes_locatable\n",
    "from matplotlib.ticker import (StrMethodFormatter, AutoMinorLocator)\n",
    "from matplotlib.animation import FuncAnimation\n",
    "from netCDF4 import Dataset"
   ]
  },
  {
   "cell_type": "code",
   "execution_count": 2,
   "id": "d5495070",
   "metadata": {},
   "outputs": [],
   "source": [
    "# set up Li-Ion half cell SPM model with the Chen2020 parameter values\n",
    "model = pybamm.lithium_ion.SPM({\"working electrode\": \"positive\"})\n",
    "parameter_values = pybamm.ParameterValues('Chen2020')"
   ]
  },
  {
   "cell_type": "code",
   "execution_count": 3,
   "id": "b18cf6da",
   "metadata": {},
   "outputs": [],
   "source": [
    "# Simulation 1 - Charging at -5 A and 0% SOC\n",
    "\n",
    "# Positive electrode - adjusted Chen2020 input parameters to fit own input parameters for \n",
    "parameter_values['Ambient temperature [K]'] = 294.15\n",
    "parameter_values['Initial temperature [K]'] = 294.15\n",
    "parameter_values['Reference temperature [K]'] = 294.15\n",
    "parameter_values['Positive electrode diffusivity [m2.s-1]'] = 1.48*10**(-15)\n",
    "parameter_values['Maximum concentration in positive electrode [mol.m-3]'] = 51765.0\n",
    "parameter_values['Initial concentration in positive electrode [mol.m-3]'] = 47023.326\n",
    "parameter_values['Current function [A]'] = -5.0\n",
    "# set input parameters for negative Li electrode for half-SPM model\n",
    "parameter_values[\"Negative electrode OCP [V]\"] = 0.0\n",
    "parameter_values[\"Negative electrode conductivity [S.m-1]\"] = 10776000.0\n",
    "parameter_values[\"Negative electrode OCP entropic change [V.K-1]\"] = 0.0\n",
    "parameter_values[\"Negative electrode charge transfer coefficient\"] = 0.5\n",
    "parameter_values[\"Negative electrode double-layer capacity [F.m-2]\"] = 0.2\n",
    "parameter_values.update({\"Typical plated lithium concentration [mol.m-3]\" : 76900.0}, check_already_exists=False)\n",
    "# define function for electrolte exchange current density and set it as input parameter\n",
    "def li_metal_electrolyte_exchange_current_density_Xu2019(c_e, c_Li, T):\n",
    "    m_ref = 3.5e-8 * pybamm.constants.F  # (A/m2)(mol/m3) - includes ref concentrations\n",
    "\n",
    "    return m_ref * c_Li**0.7 * c_e**0.3\n",
    "parameter_values.update({\"Exchange-current density for plating [A.m-2]\" : li_metal_electrolyte_exchange_current_density_Xu2019}, \n",
    "                        check_already_exists=False)\n",
    "\n",
    "# run the simulation with 120 evaluation steps\n",
    "sim_1 = pybamm.Simulation(model, parameter_values=parameter_values)\n",
    "t_eval = np.arange(0,1000,1)\n",
    "sim_1.solve(t_eval = t_eval)\n",
    "#sim.plot()\n",
    "\n",
    "# Get computed quantities of interest\n",
    "v_1 = sim_1.solution['Voltage [V]'].data\n",
    "c_1 = sim_1.solution['Positive particle concentration [mol.m-3]'].data[:,0]\n",
    "t_1 = sim_1.solution['Time [s]'].data\n",
    "r_1 = sim_1.solution['r_p [m]'].data[:,0,0]"
   ]
  },
  {
   "cell_type": "code",
   "execution_count": 5,
   "id": "8ef50768",
   "metadata": {},
   "outputs": [
    {
     "name": "stdout",
     "output_type": "stream",
     "text": [
      "(20, 1000)\n"
     ]
    }
   ],
   "source": [
    "print(c_1.shape)"
   ]
  },
  {
   "cell_type": "code",
   "execution_count": 6,
   "id": "23164130",
   "metadata": {},
   "outputs": [],
   "source": [
    "# write NetCDF file for simulation 1\n",
    "rootgrp = Dataset('./data/PyBaMM_sim1.nc', 'w', format='NETCDF4')\n",
    "v_dim = rootgrp.createDimension('v_dim', len(v_1))\n",
    "c_xdim = rootgrp.createDimension('c_xdim', c_1.shape[0] )\n",
    "c_ydim = rootgrp.createDimension('c_ydim', c_1.shape[1])\n",
    "t_dim = rootgrp.createDimension('t_dim', len(t_1))\n",
    "r_dim = rootgrp.createDimension('r_dim', len(r_1))\n",
    "volt = rootgrp.createVariable('volt', 'f8', ('v_dim',))\n",
    "conc = rootgrp.createVariable('conc', 'f8', ('c_xdim', 'c_ydim',))\n",
    "time = rootgrp.createVariable('time', 'f8', ('t_dim',))\n",
    "rad = rootgrp.createVariable('rad', 'f8', ('r_dim',))\n",
    "rootgrp.description = 'Result from PyBaMM charging at fixed current'\n",
    "volt.description = 'Voltage'\n",
    "volt.units = 'V'\n",
    "conc.description = 'Lithium concentration'\n",
    "conc.units = '$mol m^{-3}$'\n",
    "time.description = 'Time'\n",
    "time.units = 's'\n",
    "rad.description = 'Mean particle radius'\n",
    "rad.units = 'm'\n",
    "volt[:] = v_1\n",
    "conc[:,:] = c_1\n",
    "time[:] = t_1\n",
    "rad[:] = r_1\n",
    "rootgrp.close()"
   ]
  },
  {
   "cell_type": "code",
   "execution_count": 7,
   "id": "4c8a99e8",
   "metadata": {},
   "outputs": [],
   "source": [
    "# Simulation 2 - Discharging at -5 A and 95% SOC \n",
    "# Initial concentration at 100% SOC leads to following error:\n",
    "# Events ['Maximum voltage [V]'] are non-positive at initial conditions\n",
    "\n",
    "# Positive electrode - adjusted Chen2020 input parameters to fit own input parameters for \n",
    "parameter_values['Ambient temperature [K]'] = 294.15\n",
    "parameter_values['Initial temperature [K]'] = 294.15\n",
    "parameter_values['Reference temperature [K]'] = 294.15\n",
    "parameter_values['Positive electrode diffusivity [m2.s-1]'] = 1.48*10**(-15)\n",
    "parameter_values['Maximum concentration in positive electrode [mol.m-3]'] = 51765.0\n",
    "parameter_values['Initial concentration in positive electrode [mol.m-3]'] = 15437.099475\n",
    "parameter_values['Current function [A]'] = +5.0\n",
    "# set input parameters for negative Li electrode for half-SPM model\n",
    "parameter_values[\"Negative electrode OCP [V]\"] = 0.0\n",
    "parameter_values[\"Negative electrode conductivity [S.m-1]\"] = 10776000.0\n",
    "parameter_values[\"Negative electrode OCP entropic change [V.K-1]\"] = 0.0\n",
    "parameter_values[\"Negative electrode charge transfer coefficient\"] = 0.5\n",
    "parameter_values[\"Negative electrode double-layer capacity [F.m-2]\"] = 0.2\n",
    "parameter_values.update({\"Typical plated lithium concentration [mol.m-3]\" : 76900.0}, check_already_exists=False)\n",
    "# define function for electrolte exchange current density and set it as input parameter\n",
    "def li_metal_electrolyte_exchange_current_density_Xu2019(c_e, c_Li, T):\n",
    "    m_ref = 3.5e-8 * pybamm.constants.F  # (A/m2)(mol/m3) - includes ref concentrations\n",
    "\n",
    "    return m_ref * c_Li**0.7 * c_e**0.3\n",
    "parameter_values.update({\"Exchange-current density for plating [A.m-2]\" : li_metal_electrolyte_exchange_current_density_Xu2019}, \n",
    "                        check_already_exists=False)\n",
    "\n",
    "# run the simulation with 120 evaluation steps\n",
    "sim_2 = pybamm.Simulation(model, parameter_values=parameter_values)\n",
    "t_eval = np.arange(0,1000,1)\n",
    "sim_2.solve(t_eval=t_eval)\n",
    "#sim.plot()\n",
    "\n",
    "# Get computed quantities of interest\n",
    "v_2 = sim_2.solution['Voltage [V]'].data\n",
    "c_2 = sim_2.solution['Positive particle concentration [mol.m-3]'].data[:,0]\n",
    "t_2 = sim_2.solution['Time [s]'].data\n",
    "r_2 = sim_2.solution['r_p [m]'].data[:,0,0]"
   ]
  },
  {
   "cell_type": "code",
   "execution_count": 7,
   "id": "db66c384",
   "metadata": {},
   "outputs": [],
   "source": [
    "# write NetCDF file for simulation 2\n",
    "rootgrp = Dataset('./data/PyBaMM_sim2.nc', 'w', format='NETCDF4')\n",
    "v_dim = rootgrp.createDimension('v_dim', len(v_2))\n",
    "c_xdim = rootgrp.createDimension('c_xdim', c_2.shape[0] )\n",
    "c_ydim = rootgrp.createDimension('c_ydim', c_2.shape[1])\n",
    "t_dim = rootgrp.createDimension('t_dim', len(t_2))\n",
    "r_dim = rootgrp.createDimension('r_dim', len(r_2))\n",
    "volt = rootgrp.createVariable('volt', 'f8', ('v_dim',))\n",
    "conc = rootgrp.createVariable('conc', 'f8', ('c_xdim', 'c_ydim',))\n",
    "time = rootgrp.createVariable('time', 'f8', ('t_dim',))\n",
    "rad = rootgrp.createVariable('rad', 'f8', ('r_dim',))\n",
    "rootgrp.description = 'Result from PyBaMM discharging at fixed current'\n",
    "volt.description = 'Voltage'\n",
    "volt.units = 'V'\n",
    "conc.description = 'Lithium concentration'\n",
    "conc.units = '$mol m^{-3}$'\n",
    "time.description = 'Time'\n",
    "time.units = 's'\n",
    "rad.description = 'Mean particle radius'\n",
    "rad.units = 'm'\n",
    "volt[:] = v_2\n",
    "conc[:,:] = c_2\n",
    "time[:] = t_2\n",
    "rad[:] = r_2\n",
    "rootgrp.close()"
   ]
  },
  {
   "cell_type": "code",
   "execution_count": 21,
   "id": "f54c8b39",
   "metadata": {},
   "outputs": [
    {
     "name": "stderr",
     "output_type": "stream",
     "text": [
      "2023-05-24 14:24:37.462 - [NOTICE] callbacks.on_cycle_start(172): Cycle 1/1 (78.013 us elapsed) --------------------\n",
      "2023-05-24 14:24:37.463 - [NOTICE] callbacks.on_step_start(180): Cycle 1/1, step 1/3: Rest for 30 minutes\n",
      "2023-05-24 14:24:37.471 - [NOTICE] callbacks.on_step_start(180): Cycle 1/1, step 2/3: Discharge at 1 A for 5 minutes\n",
      "2023-05-24 14:24:37.482 - [NOTICE] callbacks.on_step_start(180): Cycle 1/1, step 3/3: Rest for 30 minutes\n",
      "2023-05-24 14:24:37.505 - [NOTICE] callbacks.on_experiment_end(220): Finish experiment simulation, took 43.124 ms\n"
     ]
    },
    {
     "data": {
      "application/vnd.jupyter.widget-view+json": {
       "model_id": "71ef55ad1b574a178912b1503243dd52",
       "version_major": 2,
       "version_minor": 0
      },
      "text/plain": [
       "interactive(children=(FloatSlider(value=0.0, description='t', max=1.0833333333333333, step=0.01083333333333333…"
      ]
     },
     "metadata": {},
     "output_type": "display_data"
    },
    {
     "data": {
      "image/png": "[encoded data removed]",
      "text/plain": [
       "<Figure size 576x288 with 2 Axes>"
      ]
     },
     "metadata": {
      "needs_background": "light"
     },
     "output_type": "display_data"
    }
   ],
   "source": [
    "# Simulation 3 - GITT experiment\n",
    "pybamm.set_logging_level('NOTICE')\n",
    "experiment = pybamm.Experiment(\n",
    "    [\n",
    "        (\"Rest for 30 minutes\",\n",
    "        \"Discharge at 1 A for 5 minutes\",\n",
    "        \"Rest for 30 minutes\"),\n",
    "    ])\n",
    "\n",
    "# Positive electrode - adjusted Chen2020 input parameters to fit own input parameters for \n",
    "parameter_values['Ambient temperature [K]'] = 294.15\n",
    "parameter_values['Initial temperature [K]'] = 294.15\n",
    "parameter_values['Reference temperature [K]'] = 294.15\n",
    "parameter_values['Positive electrode diffusivity [m2.s-1]'] = 1.48*10**(-15)\n",
    "parameter_values['Maximum concentration in positive electrode [mol.m-3]'] = 51765.0\n",
    "parameter_values['Initial concentration in positive electrode [mol.m-3]'] = 47023.326\n",
    "parameter_values['Current function [A]'] = -5.0\n",
    "# set input parameters for negative Li electrode for half-SPM model\n",
    "parameter_values[\"Negative electrode OCP [V]\"] = 0.0\n",
    "parameter_values[\"Negative electrode conductivity [S.m-1]\"] = 10776000.0\n",
    "parameter_values[\"Negative electrode OCP entropic change [V.K-1]\"] = 0.0\n",
    "parameter_values[\"Negative electrode charge transfer coefficient\"] = 0.5\n",
    "parameter_values[\"Negative electrode double-layer capacity [F.m-2]\"] = 0.2\n",
    "parameter_values.update({\"Typical plated lithium concentration [mol.m-3]\" : 76900.0}, check_already_exists=False)\n",
    "# define function for electrolte exchange current density and set it as input parameter\n",
    "def li_metal_electrolyte_exchange_current_density_Xu2019(c_e, c_Li, T):\n",
    "    m_ref = 3.5e-8 * pybamm.constants.F  # (A/m2)(mol/m3) - includes ref concentrations\n",
    "\n",
    "    return m_ref * c_Li**0.7 * c_e**0.3\n",
    "parameter_values.update({\"Exchange-current density for plating [A.m-2]\" : li_metal_electrolyte_exchange_current_density_Xu2019}, \n",
    "                        check_already_exists=False)\n",
    "\n",
    "# run simulation\n",
    "sim_exp = pybamm.Simulation(model, parameter_values = parameter_values, experiment = experiment)\n",
    "sim_exp.solve()\n",
    "sim_exp.plot(['Terminal voltage [V]', 'Current [A]'])\n",
    "\n",
    "# Get computed quantities of interest\n",
    "v_3 = sim_exp.solution['Voltage [V]'].data\n",
    "c_3 = sim_exp.solution['Positive particle concentration [mol.m-3]'].data[:,0]\n",
    "t_3 = sim_exp.solution['Time [s]'].data\n",
    "r_3 = sim_exp.solution['r_p [m]'].data[:,0,0]"
   ]
  },
  {
   "cell_type": "code",
   "execution_count": 23,
   "id": "5c1abccf",
   "metadata": {},
   "outputs": [
    {
     "name": "stdout",
     "output_type": "stream",
     "text": [
      "[   0.   60.  120.  180.  240.  300.  360.  420.  480.  540.  600.  660.\n",
      "  720.  780.  840.  900.  960. 1020. 1080. 1140. 1200. 1260. 1320. 1380.\n",
      " 1440. 1500. 1560. 1620. 1680. 1740. 1800. 1800. 1860. 1920. 1980. 2040.\n",
      " 2100. 2100. 2160. 2220. 2280. 2340. 2400. 2460. 2520. 2580. 2640. 2700.\n",
      " 2760. 2820. 2880. 2940. 3000. 3060. 3120. 3180. 3240. 3300. 3360. 3420.\n",
      " 3480. 3540. 3600. 3660. 3720. 3780. 3840. 3900.]\n"
     ]
    }
   ],
   "source": [
    "print(t_3)"
   ]
  },
  {
   "cell_type": "code",
   "execution_count": 9,
   "id": "b0edadb8",
   "metadata": {},
   "outputs": [],
   "source": [
    "# write NetCDF file for simulation 3\n",
    "rootgrp = Dataset('./data/PyBaMM_sim3.nc', 'w', format='NETCDF4')\n",
    "v_dim = rootgrp.createDimension('v_dim', len(v_3))\n",
    "c_xdim = rootgrp.createDimension('c_xdim', c_3.shape[0] )\n",
    "c_ydim = rootgrp.createDimension('c_ydim', c_3.shape[1])\n",
    "t_dim = rootgrp.createDimension('t_dim', len(t_3))\n",
    "r_dim = rootgrp.createDimension('r_dim', len(r_3))\n",
    "volt = rootgrp.createVariable('volt', 'f8', ('v_dim',))\n",
    "conc = rootgrp.createVariable('conc', 'f8', ('c_xdim', 'c_ydim',))\n",
    "time = rootgrp.createVariable('time', 'f8', ('t_dim',))\n",
    "rad = rootgrp.createVariable('rad', 'f8', ('r_dim',))\n",
    "rootgrp.description = 'Result from PyBaMM for GITT experiment'\n",
    "volt.description = 'Voltage'\n",
    "volt.units = 'V'\n",
    "conc.description = 'Lithium concentration'\n",
    "conc.units = '$mol m^{-3}$'\n",
    "time.description = 'Time'\n",
    "time.units = 's'\n",
    "rad.description = 'Mean particle radius'\n",
    "rad.units = 'm'\n",
    "volt[:] = v_3\n",
    "conc[:,:] = c_3\n",
    "time[:] = t_3\n",
    "rad[:] = r_3\n",
    "rootgrp.close()"
   ]
  },
  {
   "cell_type": "code",
   "execution_count": 10,
   "id": "7ef93a6c",
   "metadata": {},
   "outputs": [],
   "source": [
    "#parameter_values"
   ]
  },
  {
   "cell_type": "code",
   "execution_count": 11,
   "id": "abb3bcdd",
   "metadata": {},
   "outputs": [],
   "source": [
    "# Simulation 4 - Charging at -5 A and 0% SOC with Diffusion coefficient of 4*10^(-10)\n",
    "\n",
    "# Positive electrode - adjusted Chen2020 input parameters to fit own input parameters for \n",
    "parameter_values['Ambient temperature [K]'] = 294.15\n",
    "parameter_values['Initial temperature [K]'] = 294.15\n",
    "parameter_values['Reference temperature [K]'] = 294.15\n",
    "parameter_values['Positive electrode diffusivity [m2.s-1]'] = 1.48*10**(-15)\n",
    "parameter_values['Maximum concentration in positive electrode [mol.m-3]'] = 51765.0\n",
    "parameter_values['Initial concentration in positive electrode [mol.m-3]'] = 47023.326\n",
    "parameter_values['Current function [A]'] = -5.0\n",
    "parameter_values['Positive electrode diffusivity [m2.s-1]'] = 4*10**(-10)\n",
    "# set input parameters for negative Li electrode for half-SPM model\n",
    "parameter_values[\"Negative electrode OCP [V]\"] = 0.0\n",
    "parameter_values[\"Negative electrode conductivity [S.m-1]\"] = 10776000.0\n",
    "parameter_values[\"Negative electrode OCP entropic change [V.K-1]\"] = 0.0\n",
    "parameter_values[\"Negative electrode charge transfer coefficient\"] = 0.5\n",
    "parameter_values[\"Negative electrode double-layer capacity [F.m-2]\"] = 0.2\n",
    "parameter_values.update({\"Typical plated lithium concentration [mol.m-3]\" : 76900.0}, check_already_exists=False)\n",
    "# define function for electrolte exchange current density and set it as input parameter\n",
    "def li_metal_electrolyte_exchange_current_density_Xu2019(c_e, c_Li, T):\n",
    "    m_ref = 3.5e-8 * pybamm.constants.F  # (A/m2)(mol/m3) - includes ref concentrations\n",
    "\n",
    "    return m_ref * c_Li**0.7 * c_e**0.3\n",
    "parameter_values.update({\"Exchange-current density for plating [A.m-2]\" : li_metal_electrolyte_exchange_current_density_Xu2019}, \n",
    "                        check_already_exists=False)\n",
    "\n",
    "# run the simulation with 120 evaluation steps\n",
    "sim_4 = pybamm.Simulation(model, parameter_values=parameter_values)\n",
    "t_eval = np.arange(0,1000,1)\n",
    "sim_4.solve(t_eval=t_eval)\n",
    "#sim.plot()\n",
    "\n",
    "# Get computed quantities of interest\n",
    "v_4 = sim_4.solution['Voltage [V]'].data\n",
    "c_4 = sim_4.solution['Positive particle concentration [mol.m-3]'].data[:,0]\n",
    "t_4 = sim_4.solution['Time [s]'].data\n",
    "r_4 = sim_4.solution['r_p [m]'].data[:,0,0]"
   ]
  },
  {
   "cell_type": "code",
   "execution_count": 12,
   "id": "86feb105",
   "metadata": {},
   "outputs": [],
   "source": [
    "# write NetCDF file for simulation 4\n",
    "rootgrp = Dataset('./data/PyBaMM_sim4.nc', 'w', format='NETCDF4')\n",
    "v_dim = rootgrp.createDimension('v_dim', len(v_4))\n",
    "c_xdim = rootgrp.createDimension('c_xdim', c_4.shape[0] )\n",
    "c_ydim = rootgrp.createDimension('c_ydim', c_4.shape[1])\n",
    "t_dim = rootgrp.createDimension('t_dim', len(t_4))\n",
    "r_dim = rootgrp.createDimension('r_dim', len(r_4))\n",
    "volt = rootgrp.createVariable('volt', 'f8', ('v_dim',))\n",
    "conc = rootgrp.createVariable('conc', 'f8', ('c_xdim', 'c_ydim',))\n",
    "time = rootgrp.createVariable('time', 'f8', ('t_dim',))\n",
    "rad = rootgrp.createVariable('rad', 'f8', ('r_dim',))\n",
    "rootgrp.description = 'Result from PyBaMM for GITT experiment'\n",
    "volt.description = 'Voltage'\n",
    "volt.units = 'V'\n",
    "conc.description = 'Lithium concentration'\n",
    "conc.units = '$mol m^{-3}$'\n",
    "time.description = 'Time'\n",
    "time.units = 's'\n",
    "rad.description = 'Mean particle radius'\n",
    "rad.units = 'm'\n",
    "volt[:] = v_4\n",
    "conc[:,:] = c_4\n",
    "time[:] = t_4\n",
    "rad[:] = r_4\n",
    "rootgrp.close()"
   ]
  },
  {
   "cell_type": "code",
   "execution_count": 11,
   "id": "3faa9bd0",
   "metadata": {},
   "outputs": [],
   "source": [
    "# Simulation 5 - Charging at -5 A and 0% SOC with Mean partile radius of 7 micrometer\n",
    "\n",
    "# Positive electrode - adjusted Chen2020 input parameters to fit own input parameters for \n",
    "parameter_values['Ambient temperature [K]'] = 294.15\n",
    "parameter_values['Initial temperature [K]'] = 294.15\n",
    "parameter_values['Reference temperature [K]'] = 294.15\n",
    "parameter_values['Positive electrode diffusivity [m2.s-1]'] = 1.48*10**(-15)\n",
    "parameter_values['Maximum concentration in positive electrode [mol.m-3]'] = 51765.0\n",
    "parameter_values['Initial concentration in positive electrode [mol.m-3]'] = 47023.326\n",
    "parameter_values['Current function [A]'] = -5.0\n",
    "parameter_values['Positive electrode diffusivity [m2.s-1]'] = 1.48*10**(-15)\n",
    "parameter_values['Positive particle radius [m]'] = 7.0*10**(-6)\n",
    "# set input parameters for negative Li electrode for half-SPM model\n",
    "parameter_values[\"Negative electrode OCP [V]\"] = 0.0\n",
    "parameter_values[\"Negative electrode conductivity [S.m-1]\"] = 10776000.0\n",
    "parameter_values[\"Negative electrode OCP entropic change [V.K-1]\"] = 0.0\n",
    "parameter_values[\"Negative electrode charge transfer coefficient\"] = 0.5\n",
    "parameter_values[\"Negative electrode double-layer capacity [F.m-2]\"] = 0.2\n",
    "parameter_values.update({\"Typical plated lithium concentration [mol.m-3]\" : 76900.0}, check_already_exists=False)\n",
    "# define function for electrolte exchange current density and set it as input parameter\n",
    "def li_metal_electrolyte_exchange_current_density_Xu2019(c_e, c_Li, T):\n",
    "    m_ref = 3.5e-8 * pybamm.constants.F  # (A/m2)(mol/m3) - includes ref concentrations\n",
    "\n",
    "    return m_ref * c_Li**0.7 * c_e**0.3\n",
    "parameter_values.update({\"Exchange-current density for plating [A.m-2]\" : li_metal_electrolyte_exchange_current_density_Xu2019}, \n",
    "                        check_already_exists=False)\n",
    "\n",
    "# run the simulation with 120 evaluation steps\n",
    "sim_5 = pybamm.Simulation(model, parameter_values=parameter_values)\n",
    "t_eval = np.arange(0,1000,1)\n",
    "sim_5.solve(t_eval=t_eval)\n",
    "#sim.plot()\n",
    "\n",
    "# Get computed quantities of interest\n",
    "v_5 = sim_5.solution['Voltage [V]'].data\n",
    "c_5 = sim_5.solution['Positive particle concentration [mol.m-3]'].data[:,0]\n",
    "t_5 = sim_5.solution['Time [s]'].data\n",
    "r_5 = sim_5.solution['r_p [m]'].data[:,0,0]"
   ]
  },
  {
   "cell_type": "code",
   "execution_count": 12,
   "id": "a2dc550e",
   "metadata": {},
   "outputs": [],
   "source": [
    "# write NetCDF file for simulation 5\n",
    "rootgrp = Dataset('./data/PyBaMM_sim5.nc', 'w', format='NETCDF4')\n",
    "v_dim = rootgrp.createDimension('v_dim', len(v_5))\n",
    "c_xdim = rootgrp.createDimension('c_xdim', c_5.shape[0] )\n",
    "c_ydim = rootgrp.createDimension('c_ydim', c_5.shape[1])\n",
    "t_dim = rootgrp.createDimension('t_dim', len(t_5))\n",
    "r_dim = rootgrp.createDimension('r_dim', len(r_5))\n",
    "volt = rootgrp.createVariable('volt', 'f8', ('v_dim',))\n",
    "conc = rootgrp.createVariable('conc', 'f8', ('c_xdim', 'c_ydim',))\n",
    "time = rootgrp.createVariable('time', 'f8', ('t_dim',))\n",
    "rad = rootgrp.createVariable('rad', 'f8', ('r_dim',))\n",
    "rootgrp.description = 'Result from PyBaMM for GITT experiment'\n",
    "volt.description = 'Voltage'\n",
    "volt.units = 'V'\n",
    "conc.description = 'Lithium concentration'\n",
    "conc.units = '$mol m^{-3}$'\n",
    "time.description = 'Time'\n",
    "time.units = 's'\n",
    "rad.description = 'Mean particle radius'\n",
    "rad.units = 'm'\n",
    "volt[:] = v_5\n",
    "conc[:,:] = c_5\n",
    "time[:] = t_5\n",
    "rad[:] = r_5\n",
    "rootgrp.close()"
   ]
  },
  {
   "cell_type": "code",
   "execution_count": 13,
   "id": "ec012bdb",
   "metadata": {},
   "outputs": [
    {
     "data": {
      "application/vnd.jupyter.widget-view+json": {
       "model_id": "23e441a9589243c6aed41775344f6b04",
       "version_major": 2,
       "version_minor": 0
      },
      "text/plain": [
       "interactive(children=(FloatSlider(value=0.0, description='t', max=999.0, step=9.99), Output()), _dom_classes=(…"
      ]
     },
     "metadata": {},
     "output_type": "display_data"
    },
    {
     "data": {
      "text/plain": [
       "<pybamm.plotting.quick_plot.QuickPlot at 0x7f9588f2acb0>"
      ]
     },
     "execution_count": 13,
     "metadata": {},
     "output_type": "execute_result"
    },
    {
     "data": {
      "image/png": "[encoded data removed]",
      "text/plain": [
       "<Figure size 576x288 with 3 Axes>"
      ]
     },
     "metadata": {
      "needs_background": "light"
     },
     "output_type": "display_data"
    },
    {
     "data": {
      "image/png": "[encoded data removed]",
      "text/plain": [
       "<Figure size 576x288 with 3 Axes>"
      ]
     },
     "metadata": {
      "needs_background": "light"
     },
     "output_type": "display_data"
    },
    {
     "data": {
      "image/png": "[encoded data removed]",
      "text/plain": [
       "<Figure size 576x288 with 3 Axes>"
      ]
     },
     "metadata": {
      "needs_background": "light"
     },
     "output_type": "display_data"
    }
   ],
   "source": [
    "sim_5.plot(['Terminal voltage [V]', 'Positive particle concentration [mol.m-3]'])"
   ]
  },
  {
   "cell_type": "code",
   "execution_count": 16,
   "id": "7735e4bb",
   "metadata": {},
   "outputs": [
    {
     "ename": "NameError",
     "evalue": "name 'r' is not defined",
     "output_type": "error",
     "traceback": [
      "\u001b[0;31m---------------------------------------------------------------------------\u001b[0m",
      "\u001b[0;31mNameError\u001b[0m                                 Traceback (most recent call last)",
      "\u001b[0;32m/tmp/ipykernel_33600/3933157948.py\u001b[0m in \u001b[0;36m<module>\u001b[0;34m\u001b[0m\n\u001b[1;32m      4\u001b[0m \u001b[0;34m\u001b[0m\u001b[0m\n\u001b[1;32m      5\u001b[0m \u001b[0mintervaltime\u001b[0m \u001b[0;34m=\u001b[0m \u001b[0;36m10\u001b[0m\u001b[0;34m\u001b[0m\u001b[0;34m\u001b[0m\u001b[0m\n\u001b[0;32m----> 6\u001b[0;31m \u001b[0mline\u001b[0m\u001b[0;34m,\u001b[0m \u001b[0;34m=\u001b[0m \u001b[0max1\u001b[0m\u001b[0;34m.\u001b[0m\u001b[0mplot\u001b[0m\u001b[0;34m(\u001b[0m\u001b[0mr\u001b[0m\u001b[0;34m,\u001b[0m \u001b[0mc\u001b[0m\u001b[0;34m[\u001b[0m\u001b[0;34m:\u001b[0m\u001b[0;34m,\u001b[0m\u001b[0;36m0\u001b[0m\u001b[0;34m]\u001b[0m\u001b[0;34m)\u001b[0m\u001b[0;34m\u001b[0m\u001b[0;34m\u001b[0m\u001b[0m\n\u001b[0m\u001b[1;32m      7\u001b[0m \u001b[0;32mdef\u001b[0m \u001b[0manimate\u001b[0m\u001b[0;34m(\u001b[0m\u001b[0mi\u001b[0m\u001b[0;34m)\u001b[0m\u001b[0;34m:\u001b[0m\u001b[0;34m\u001b[0m\u001b[0;34m\u001b[0m\u001b[0m\n\u001b[1;32m      8\u001b[0m     \u001b[0mline\u001b[0m\u001b[0;34m.\u001b[0m\u001b[0mset_ydata\u001b[0m\u001b[0;34m(\u001b[0m\u001b[0mc\u001b[0m\u001b[0;34m[\u001b[0m\u001b[0;34m:\u001b[0m\u001b[0;34m,\u001b[0m\u001b[0mi\u001b[0m\u001b[0;34m]\u001b[0m\u001b[0;34m)\u001b[0m\u001b[0;34m\u001b[0m\u001b[0;34m\u001b[0m\u001b[0m\n",
      "\u001b[0;31mNameError\u001b[0m: name 'r' is not defined"
     ]
    },
    {
     "data": {
      "image/png": "[encoded data removed]",
      "text/plain": [
       "<Figure size 720x288 with 2 Axes>"
      ]
     },
     "metadata": {
      "needs_background": "light"
     },
     "output_type": "display_data"
    }
   ],
   "source": [
    "fig = plt.figure(figsize=(10,4))\n",
    "ax1 = plt.subplot2grid((1,2),(0,0))\n",
    "ax2 = plt.subplot2grid((1,2),(0,1))\n",
    "\n",
    "intervaltime = 10\n",
    "line, = ax1.plot(r, c[:,0])\n",
    "def animate(i):\n",
    "    line.set_ydata(c[:,i])\n",
    "    return line,\n",
    "animation = FuncAnimation(fig, animate, interval=intervaltime, frames=time_axis, blit=True)\n",
    "\n",
    "ax1.set_xlabel('Distance from particle centre [$\\mu m$]', size=8)\n",
    "ax1.xaxis.set_minor_locator(AutoMinorLocator())\n",
    "ax1.tick_params(axis='x', labelsize=7)\n",
    "ax1.set_ylabel('Lithium concentration $mol*m^{-3}$', size=8)\n",
    "ax1.set_ylim(np.min(c), np.max(c))\n",
    "ax1.yaxis.set_minor_locator(AutoMinorLocator())\n",
    "ax1.tick_params(axis='y', labelsize=7)\n",
    "ax1.ticklabel_format(axis='both', style=\"sci\", useMathText=True)\n",
    "ax1.xaxis.offsetText.set_fontsize(7)\n",
    "ax1.yaxis.offsetText.set_fontsize(7)\n",
    "ax1.set_title('Lithium Concentration Across Particle Radius', size=10, pad=15.0)\n",
    "\n",
    "#animation.save('PyBaMM_1.mp4')\n",
    "plt.show()"
   ]
  }
 ],
 "metadata": {
  "kernelspec": {
   "display_name": "Python 3 (ipykernel)",
   "language": "python",
   "name": "python3"
  },
  "language_info": {
   "codemirror_mode": {
    "name": "ipython",
    "version": 3
   },
   "file_extension": ".py",
   "mimetype": "text/x-python",
   "name": "python",
   "nbconvert_exporter": "python",
   "pygments_lexer": "ipython3",
   "version": "3.10.6"
  }
 },
 "nbformat": 4,
 "nbformat_minor": 5
}
