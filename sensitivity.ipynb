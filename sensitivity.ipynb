{
 "cells": [
  {
   "cell_type": "code",
   "execution_count": null,
   "id": "fc519212",
   "metadata": {},
   "outputs": [],
   "source": [
    "import numpy as np\n",
    "import scipy.stats as st\n",
    "import pandas as pd\n",
    "import matplotlib.pyplot as plt\n",
    "\n",
    "import seaborn as sns\n",
    "sns.set_context('talk')\n",
    "\n",
    "from matplotlib.animation import FuncAnimation"
   ]
  },
  {
   "cell_type": "code",
   "execution_count": null,
   "id": "0ad8b212",
   "metadata": {},
   "outputs": [],
   "source": [
    "#SENSITIVITY ANALYSIS\n",
    "#Assume independence between variables so that first order sensitivities are enough\n",
    "\n",
    "#set variable means x_i\n",
    "#run simulation to obtain quantity of interest Q\n",
    "#get the mean Q_0\n",
    "#give nominated variances to variables - 1%? as var_i, sigma_i = sqrt(var_i)\n",
    "#run simulation (num of variables) times with perturbed variables by h = eps*x_i\n",
    "#get first order sensitivity (Q(x_i)-Q_0)/h\n",
    "#obtain vector of sensitivities dQ_dx\n",
    "#Calculate covariance matrix (only diagonal terms here) Sigma\n",
    "#Obtain variance in Q via var_Q = dQ_dx.T @ Sigma @ dQ_dx\n",
    "#Obtain uncertainty estimate via sigma_Q = sqrt(var_Q)"
   ]
  },
  {
   "cell_type": "code",
   "execution_count": null,
   "id": "9849508e",
   "metadata": {},
   "outputs": [],
   "source": [
    "#VARIABLES\n",
    "\n",
    "#temp\n",
    "#rad\n",
    "#thick\n",
    "#rr_coef\n",
    "#dif_coef\n",
    "#init_c\n",
    "#max_c\n",
    "#vol_per\n",
    "#iapp"
   ]
  },
  {
   "cell_type": "code",
   "execution_count": null,
   "id": "d333a2d8",
   "metadata": {},
   "outputs": [],
   "source": [
    "#Set mean of variables here\n",
    "#as well as initial dataframe\n",
    "#mu should be a 9x1 array\n",
    "params = ['temp','rad','thick','rr_coef','dif_coef','init_c','max_c','vol_per','iapp']\n",
    "mu = ...\n",
    "volts_df = pd.DataFrame(dict(parameter=params,mu=mu))\n",
    "\n",
    "#Auxilliary 2D array of variable means, identical columns\n",
    "Mu_s = np.tile(mu.T,(1,1000))\n",
    "\n",
    "#Set value of perturbation here\n",
    "#h_i = eps*mu_i\n",
    "#Set h as a matrix for element-wise division, identical columns with elements = h_i\n",
    "eps = 1e-6\n",
    "h_i = eps*mu\n",
    "h = np.tile(h_i.T,(1,1000))\n",
    "\n",
    "#Obtain mean voltage curve V_0 here, each row identical\n",
    "#9 rows representing variables\n",
    "#1000 columns representing timesteps\n",
    "V_0 = np.zeros((9,1000))\n",
    "V_0 = ...\n",
    "\n",
    "#Obtain perturbed voltages here\n",
    "#9 rows representing variables\n",
    "#1000 columns representing timesteps\n",
    "Vs = np.zeros((9,1000))\n",
    "Vs = ...\n",
    "\n",
    "#Compute dV/dx as a function of time\n",
    "dV_dx = np.divide((Vs - V_0),h)\n",
    "\n",
    "#Compute absolute scaled sensitivity using element-wise multiplication\n",
    "V_first_sensitivities = np.abs(Mu_s*dV_dx)\n",
    "\n",
    "#each column i of the matrix represents the sensitivities for each paramter at time t=i "
   ]
  },
  {
   "cell_type": "code",
   "execution_count": null,
   "id": "87340d97",
   "metadata": {},
   "outputs": [],
   "source": [
    "#plot as animation\n",
    "fig, ax = plt.figure()\n",
    "ax.set_xticklabels(volts_df.parameter, rotation=45)\n",
    "ax.set_ylabel('Absolute scaled sensitivity of $V$')\n",
    "ax.set_xlabel('Parameter')\n",
    "\n",
    "#time between frames\n",
    "intervaltime = 0.5\n",
    "\n",
    "#definition of animation\n",
    "def animate(i):\n",
    "    V_df = volts_df.copy()\n",
    "    V_df['scaled_sensitivity'] = V_first_sensitivities[:,i]\n",
    "    ax = V_df['scaled_sensitivity'].abs().plot(xticks=V_df.index, logy=True)\n",
    "\n",
    "#plot first frame\n",
    "V_df = volts_df.copy()\n",
    "V_df['scaled_sensitivity'] = V_first_sensitivities[:,0]\n",
    "ax = V_df['scaled_sensitivity'].abs().plot(xticks=V_df.index, logy=True)\n",
    "\n",
    "#plot animation\n",
    "animate_sensitivities = FuncAnimation(fig, animate,interval=intervaltime, frames=range(1,len(mu)), blit=True)\n",
    "plt.show()"
   ]
  }
 ],
 "metadata": {
  "kernelspec": {
   "display_name": "Python 3 (ipykernel)",
   "language": "python",
   "name": "python3"
  },
  "language_info": {
   "codemirror_mode": {
    "name": "ipython",
    "version": 3
   },
   "file_extension": ".py",
   "mimetype": "text/x-python",
   "name": "python",
   "nbconvert_exporter": "python",
   "pygments_lexer": "ipython3",
   "version": "3.10.6"
  }
 },
 "nbformat": 4,
 "nbformat_minor": 5
}
